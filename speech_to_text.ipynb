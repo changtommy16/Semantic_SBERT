{
 "cells": [
  {
   "cell_type": "code",
   "execution_count": null,
   "metadata": {},
   "outputs": [],
   "source": []
  },
  {
   "cell_type": "code",
   "execution_count": 10,
   "metadata": {},
   "outputs": [],
   "source": [
    "import os\n",
    "from google.cloud import speech\n",
    "\n",
    "os.environ['GOOGLE_APPLICATION_CREDENTIALS'] = 'data/recordings/key.json'\n",
    "speech_client = speech.SpeechClient()\n",
    "\n",
    "# Example 1 & 2. Transcribe Local Media File \n",
    "# File Size: < 10mbs, length < 1 minute\n",
    "'''\n",
    "config_wav = speech.RecognitionConfig(\n",
    "    sample_rate_hertz=44100,\n",
    "    enable_automatic_punctuation=True,\n",
    "    language_code='en-NG',\n",
    "    audio_channel_count=2,\n",
    "    enable_word_time_offsets=True\n",
    ")\n",
    "'''\n",
    "# Example 3: Transcribing a long media file\n",
    "media_uri = 'gs://speech_to_text1234/recordings/021.wav'\n",
    "long_audi_wav = speech.RecognitionAudio(uri=media_uri)\n",
    "\n",
    "config_wav_enhanced = speech.RecognitionConfig(\n",
    "    sample_rate_hertz=48000,\n",
    "    enable_automatic_punctuation=False,\n",
    "    language_code='en-US',\n",
    "    use_enhanced=True,\n",
    "    enable_word_time_offsets=True,\n",
    "    model= \"phone_call\"\n",
    ")\n",
    "\n",
    "operation = speech_client.long_running_recognize(\n",
    "    config=config_wav_enhanced,\n",
    "    audio=long_audi_wav\n",
    ")\n",
    "response = operation.result(timeout=480)"
   ]
  },
  {
   "cell_type": "markdown",
   "metadata": {},
   "source": [
    "檔案位置"
   ]
  },
  {
   "cell_type": "code",
   "execution_count": 11,
   "metadata": {},
   "outputs": [],
   "source": [
    "#gs://speech_to_text1234/recordings/001.mp3"
   ]
  },
  {
   "cell_type": "code",
   "execution_count": 12,
   "metadata": {},
   "outputs": [],
   "source": [
    "#file1 = \"data/recordings/001.mp3\""
   ]
  },
  {
   "cell_type": "code",
   "execution_count": 13,
   "metadata": {},
   "outputs": [],
   "source": [
    "#print(type(start_time.total_seconds()))"
   ]
  },
  {
   "cell_type": "markdown",
   "metadata": {},
   "source": [
    "變數設計"
   ]
  },
  {
   "cell_type": "code",
   "execution_count": 14,
   "metadata": {},
   "outputs": [],
   "source": [
    "import pandas as pd\n",
    "import numpy as np\n",
    "Number_words = 0\n",
    "word_list = []\n",
    "word_start_time = []\n",
    "word_end_time = []"
   ]
  },
  {
   "cell_type": "markdown",
   "metadata": {},
   "source": [
    "### Display Results"
   ]
  },
  {
   "cell_type": "code",
   "execution_count": 15,
   "metadata": {},
   "outputs": [],
   "source": [
    "for result in response.results:\n",
    "        alternative = result.alternatives[0]\n",
    "        #print(\"Transcript: {}\".format(alternative.transcript))"
   ]
  },
  {
   "cell_type": "code",
   "execution_count": 16,
   "metadata": {},
   "outputs": [
    {
     "name": "stdout",
     "output_type": "stream",
     "text": [
      "Transcript: so I'm being asked to talk about myself my name is see I'm fifty-eight years old and about the themes of family career friends I guess. And as you hear from my accent friend English is not my first language I'm a French Canadian and so I was born in Montreal and I've had three sisters I'm number three out of the four so the second youngest and we grew up just Sunday along y'all a little bit north and Evelyn available do area we have had a mother who was somewhat mentally unstable I would say personality disorder although they were no formal Diagnostics and certainly not in those days off\n",
      "Transcript: so that and then my parents were went through a nasty divorce battle separated when I was ten and divorce settlement occurred seven or eight years later it was quite acrimonious but they sent me in my sisters as well to different boarding schools and so I went to boarding school in the Eastern townships for five years from the time I was ten to Fifteen and after that I went to suggest two-year program leading to University in The Sciences I went to John Abbott college and set on the Bellevue just the suburbs or slow City I guess the Western tip of very welcome tip of the elementary all and I really liked it there sorry I'm going to blow my nose and not because I'm growing I don't know why I need to put my notes I don't have the code\n",
      "Transcript: but anyway and so did my Sciences there loves him time to Bellevue made a few friends at the boyfriends was happiest years and it was difficult in a sense because I was doing it in English I was I came from the French school system and wanted to learn English because there was my way out of Quebec in the sense and to expand my horizons because I wanted to go and study far from Montreal so I am far from all the family problems and my sort of parents who were an interesting Bunch they certainly didn't have our parents should say V didn't have really much interest in the kids and they were both very wealthy and my mother reached errors and my father a highly successful Banker quote unquote successful in Iraq\n",
      "Transcript: career certainly in money-wise and the sort of terms of status social status so the kids were sort of a bit of a of an annoying you know trying to live a free life what they viewed as if we lie for each of them my mother and her quest to want to travel and have a few responsibilities as possible and from my father you know continue with his career start a new life with another woman and so on so so a bit sad but that's the way it is had Faith along the way to I guess the support and so on so that's why I wanted to stay away as far as possible from Montreal were all this excitement was happening after 6 and I believe you have to turn a college and pure and applies my government career and pure and applied sciences so when to go off and studied engineering they're dead\n",
      "Transcript: and got my degree three or four years later. Four years I could have done in three years but took an extra year cuz I needed I just took a little bit more my time and had part-time jobs along way and participated in you know the university life not so much a partying although the dancing on Friday night was always great I didn't drink much, but just left and saying joined the biking Club so it was all in all a good experience difficult of course when the schooling and Engineering there weren't that many women then so long we were pushed we tend to be pushed aside a few of us but still really good experience and I love to go for the wish I would have stayed there all my life but that didn't occur because I didn't find a job there afterwards found a job in Toronto and the electron oh very much as big and although I did connect up with cycling clubs I think people\n",
      "Transcript: and did a lot of cycling which was great then after two and half here for that job I moved to Ottawa and there was in nineteen eighty-six or so long and so we got a job with a government and so met the person who the guy who was my husband for very good eighteen twenty years we had twins and they're not twenty-five and they grade kids I get along very well with their dad even though we're separated with separate thoughts about ten years ago and they could lie and still separated because financially speaking it's really to his advantage in terms of my government benefits and so on and I don't mind off and what else so got a job and engineering and if not looked back and worked in a different place\n",
      "Transcript: departments organization I did I did I guess well by most people's account very well I guess people tend to like me page uh and um what else I say oh I love the activities I love sports being outdoors moving I Love Culture going to DNA see reading I wish I'd have more time for I'm a chronic volunteer nice say that laughingly but with uh I enjoy you know helping out others and basically when I was younger with the family life was not that good with my mother's mental instability was actually by most professionals account pretty pretty seriously bad off\n",
      "Transcript: so I vowed never to treat anybody Niota the way I was treated by my parents and there was a mini very serious incidents so but anyway I guess I suppose I came out of it okay would probably lower self-esteem than I should have thought and but you know that's the way it goes have to you know deal with the cards you're given but I'm saying this in a big fashion because I've always had people along the way I'm having a good life I'm looking forward to retirement and doing all sorts of stuff that I want to do that you don't have time to do when you're working and just in taking care of myself enjoy life more time with my girls although there at that young adults more time with cousins whatever and just being more relaxed dead\n",
      "Transcript: and God willing of course cuz if we're still Health you know we have never to take care of for granted so I see that the 309 so I'm pressing the shop but my home looks come on how do we close that\n"
     ]
    }
   ],
   "source": [
    "Number_words = 0\n",
    "for result in response.results:\n",
    "        alternative = result.alternatives[0]\n",
    "        #print(\"Transcript: {}\".format(alternative.transcript))\n",
    "        \n",
    "        for word_info in alternative.words:\n",
    "            word = word_info.word\n",
    "            start_time = word_info.start_time\n",
    "            end_time = word_info.end_time\n",
    "            word_list.append(word)\n",
    "            word_start_time.append(start_time.total_seconds())\n",
    "            word_end_time.append(end_time.total_seconds())\n",
    "            \"\"\"\n",
    "            print(\n",
    "                f\"Num: {Number_words}, Word: {word}, start_time: {start_time.total_seconds()}, end_time: {end_time.total_seconds()}\"\n",
    "            )\n",
    "            \"\"\"\n",
    "            Number_words += 1\n"
   ]
  },
  {
   "cell_type": "markdown",
   "metadata": {},
   "source": [
    "建立panda"
   ]
  },
  {
   "cell_type": "code",
   "execution_count": 17,
   "metadata": {},
   "outputs": [],
   "source": [
    "df = pd.DataFrame(list(zip(word_list,word_start_time,word_end_time)), columns = ['Words',\"Start_time\",\"End_time\"])\n",
    "#print(df)"
   ]
  },
  {
   "cell_type": "markdown",
   "metadata": {},
   "source": [
    "Export"
   ]
  },
  {
   "cell_type": "code",
   "execution_count": 18,
   "metadata": {},
   "outputs": [],
   "source": [
    "df.to_csv('data/Text/021.csv')"
   ]
  },
  {
   "cell_type": "markdown",
   "metadata": {},
   "source": [
    "Search word engine"
   ]
  },
  {
   "cell_type": "code",
   "execution_count": null,
   "metadata": {},
   "outputs": [],
   "source": []
  }
 ],
 "metadata": {
  "kernelspec": {
   "display_name": "Python 3.9.7 ('base')",
   "language": "python",
   "name": "python3"
  },
  "language_info": {
   "codemirror_mode": {
    "name": "ipython",
    "version": 3
   },
   "file_extension": ".py",
   "mimetype": "text/x-python",
   "name": "python",
   "nbconvert_exporter": "python",
   "pygments_lexer": "ipython3",
   "version": "3.9.7"
  },
  "orig_nbformat": 4,
  "vscode": {
   "interpreter": {
    "hash": "941bc48c951b854600a71224b93029d788dd972898d49a5a3a302b0c7497d8be"
   }
  }
 },
 "nbformat": 4,
 "nbformat_minor": 2
}
