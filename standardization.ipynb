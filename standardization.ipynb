{
 "cells": [
  {
   "cell_type": "code",
   "execution_count": 2,
   "metadata": {},
   "outputs": [
    {
     "name": "stderr",
     "output_type": "stream",
     "text": [
      "Warning: loading library to link with numpy returned an error\n",
      "numpy.ndarray size changed, may indicate binary incompatibility. Expected 96 from C header, got 88 from PyObject\n"
     ]
    }
   ],
   "source": [
    "from operator import length_hint\n",
    "from statistics import mean\n",
    "from turtle import filling\n",
    "import pandas as pd\n",
    "from matplotlib import pyplot as plt\n",
    "from matplotlib.backends.backend_pdf import PdfFile, PdfPages\n",
    "#df = pd.read_csv(\"data/text/002(results).csv\")\n",
    "import statistics\n",
    "import scipy\n",
    "from sklearn import preprocessing\n",
    "from sklearn.datasets import make_moons\n",
    "from scipy.stats import pearsonr\n",
    "from dtaidistance import dtw\n",
    "from scipy.signal import hilbert, chirp\n",
    "from sklearn.preprocessing import MinMaxScaler\n",
    "from scipy import stats\n",
    "import math\n",
    "from matplotlib import pyplot as plt\n",
    "import numpy as np\n",
    "import sklearn\n",
    "from sklearn.feature_selection import mutual_info_regression\n",
    "    "
   ]
  },
  {
   "cell_type": "code",
   "execution_count": 3,
   "metadata": {},
   "outputs": [
    {
     "name": "stdout",
     "output_type": "stream",
     "text": [
      "0.08244244568254655\n",
      "0.08346387119086028\n",
      "0.08139033310380298\n"
     ]
    },
    {
     "data": {
      "text/plain": [
       "array([0.09943254])"
      ]
     },
     "execution_count": 3,
     "metadata": {},
     "output_type": "execute_result"
    }
   ],
   "source": [
    "df = pd.read_csv(\"data/Text/008(ancestor_comparison0_100).csv\")\n",
    "a = np.array([df[\"Wu-Pulmer_divided\"]])\n",
    "depth1 = np.array([df[\"ancestor_depth\"]])\n",
    "print(mean(list(df[\"ancestor_depth\"])))\n",
    "a = np.squeeze(a)\n",
    "a = a.reshape(-1, 1)\n",
    "depth1 = np.squeeze(depth1)\n",
    "depth1 = stats.zscore(depth1)\n",
    "depth1 = depth1.reshape(-1,1)\n",
    "df = pd.read_csv(\"data/Text/008(ancestor_comparison100_260).csv\")\n",
    "depth2 = np.array([df[\"ancestor_depth\"]])\n",
    "print(mean(list(df[\"ancestor_depth\"])))\n",
    "depth2 = np.squeeze(depth2)\n",
    "depth2 = stats.zscore(depth2)\n",
    "depth2 = depth2.reshape(-1,1)\n",
    "\n",
    "\n",
    "df = pd.read_csv(\"data/Text/008(ancestor_comparison300_480).csv\")\n",
    "depth3 = np.array([df[\"ancestor_depth\"]])\n",
    "print(mean(list(df[\"ancestor_depth\"])))\n",
    "depth3 = np.squeeze(depth3)\n",
    "depth3 = stats.zscore(depth3)\n",
    "depth3 = depth3.reshape(-1,1)\n",
    "depth = np.append(depth1,depth2)\n",
    "depth = np.append(depth,depth3)\n",
    "freq = [0.027]*100 + [0.0]*160 + [0.024]*180 \n",
    "freq = np.array([freq])\n",
    "freq = freq.reshape(-1,1)\n",
    "sklearn.feature_selection.mutual_info_regression(freq,depth)"
   ]
  },
  {
   "cell_type": "code",
   "execution_count": 4,
   "metadata": {},
   "outputs": [
    {
     "name": "stdout",
     "output_type": "stream",
     "text": [
      "0.11026018740660412\n"
     ]
    },
    {
     "name": "stderr",
     "output_type": "stream",
     "text": [
      "c:\\Users\\chang\\anaconda3\\envs\\semantic\\lib\\site-packages\\sklearn\\utils\\validation.py:1111: DataConversionWarning: A column-vector y was passed when a 1d array was expected. Please change the shape of y to (n_samples, ), for example using ravel().\n",
      "  y = column_or_1d(y, warn=True)\n"
     ]
    }
   ],
   "source": [
    "df = pd.read_csv(\"data/Text/010(ancestor).csv\")\n",
    "a = np.array([df[\"Wu-Pulmer_divided\"]])\n",
    "b = np.array([df[\"ancestor_depth\"]])\n",
    "a = np.squeeze(a)\n",
    "a = a.reshape(-1, 1)\n",
    "b = np.squeeze(b)\n",
    "b = b.reshape(-1,1)\n",
    "freq = [0.027]*150 +[0.043]*150 +[0.05]*179\n",
    "freq = np.array([freq])\n",
    "freq = freq.reshape(-1,1)\n",
    "sklearn.feature_selection.mutual_info_regression(freq,b, n_neighbors = 3)\n",
    "print(mean(list(df[\"ancestor_depth\"])))\n",
    "#df = pd.read_csv(\"data/Text/010(ancestor).csv\")"
   ]
  },
  {
   "cell_type": "code",
   "execution_count": 5,
   "metadata": {},
   "outputs": [
    {
     "name": "stdout",
     "output_type": "stream",
     "text": [
      "0.08244244568254655\n",
      "0.08346387119086028\n"
     ]
    },
    {
     "name": "stderr",
     "output_type": "stream",
     "text": [
      "c:\\Users\\chang\\anaconda3\\envs\\semantic\\lib\\site-packages\\sklearn\\utils\\validation.py:1111: DataConversionWarning: A column-vector y was passed when a 1d array was expected. Please change the shape of y to (n_samples, ), for example using ravel().\n",
      "  y = column_or_1d(y, warn=True)\n"
     ]
    },
    {
     "data": {
      "text/plain": [
       "array([0.41709919])"
      ]
     },
     "execution_count": 5,
     "metadata": {},
     "output_type": "execute_result"
    }
   ],
   "source": [
    "df = pd.read_csv(\"data/Text/008(ancestor_comparison0_100).csv\")\n",
    "a = np.array([df[\"Wu-Pulmer_divided\"]])\n",
    "depth1 = np.array([df[\"ancestor_depth\"]])\n",
    "print(mean(list(df[\"ancestor_depth\"])))\n",
    "a = np.squeeze(a)\n",
    "a = a.reshape(-1, 1)\n",
    "depth1 = np.squeeze(depth1)\n",
    "depth1 = depth1.reshape(-1,1)\n",
    "df = pd.read_csv(\"data/Text/008(ancestor_comparison100_260).csv\")\n",
    "depth2 = np.array([df[\"ancestor_depth\"]])\n",
    "print(mean(list(df[\"ancestor_depth\"])))\n",
    "depth2 = np.squeeze(depth2)\n",
    "depth2 = depth2.reshape(-1,1)\n",
    "depth = np.append(depth1,depth2)\n",
    "df = pd.read_csv(\"data/Text/013(ancestor).csv\")\n",
    "a = np.array([df[\"Wu-Pulmer_divided\"]])\n",
    "b = np.array([df[\"ancestor_depth\"]])\n",
    "a = np.squeeze(a)\n",
    "a = a.reshape(-1, 1)\n",
    "b = np.squeeze(b)\n",
    "b = b.reshape(-1,1)\n",
    "freq = [0.04]*72  +[0.031]*379\n",
    "freq = np.array([freq])\n",
    "freq = freq.reshape(-1,1)\n",
    "depth = [0.9]*72  +[0.873]*379\n",
    "depth = np.array([depth])\n",
    "depth = depth.reshape(-1,1)\n",
    "#x1 = np.linspace(1,100,num =100)\n",
    "#y1 = 2*np.sin(x1*27/1000)\n",
    "#x2 = np.linspace(101,479,num =379)\n",
    "#y2 = 2*np.sin(x2*24/1000)\n",
    "#x = np.append(x1,x2)\n",
    "#y = np.append(y2,y1)\n",
    "#print(y)\n",
    "#y = y.reshape(-1,1)\n",
    "sklearn.feature_selection.mutual_info_regression(freq,depth, n_neighbors = 5)\n",
    "#distance = dtw.distance(std1, std2, window = 10)\n"
   ]
  },
  {
   "cell_type": "markdown",
   "metadata": {},
   "source": [
    "### 這邊是用波和depth的波動做mutual information"
   ]
  },
  {
   "cell_type": "code",
   "execution_count": 6,
   "metadata": {},
   "outputs": [
    {
     "name": "stdout",
     "output_type": "stream",
     "text": [
      "0.08244244568254655\n",
      "0.08346387119086028\n"
     ]
    },
    {
     "data": {
      "text/plain": [
       "array([0.28561032])"
      ]
     },
     "execution_count": 6,
     "metadata": {},
     "output_type": "execute_result"
    }
   ],
   "source": [
    "df = pd.read_csv(\"data/Text/008(ancestor_comparison0_100).csv\")\n",
    "a = np.array([df[\"Wu-Pulmer_divided\"]])\n",
    "depth1 = np.array([df[\"ancestor_depth\"]])\n",
    "print(mean(list(df[\"ancestor_depth\"])))\n",
    "a = np.squeeze(a)\n",
    "a = a.reshape(-1, 1)\n",
    "depth1 = np.squeeze(depth1)\n",
    "depth1 = depth1.reshape(-1,1)\n",
    "df = pd.read_csv(\"data/Text/008(ancestor_comparison100_260).csv\")\n",
    "depth2 = np.array([df[\"ancestor_depth\"]])\n",
    "print(mean(list(df[\"ancestor_depth\"])))\n",
    "depth2 = np.squeeze(depth2)\n",
    "depth2 = depth2.reshape(-1,1)\n",
    "depth = np.append(depth1,depth2)\n",
    "\n",
    "x1 = np.linspace(0,100,num =100)\n",
    "y1 = 2*np.sin(x1*27/1000)\n",
    "x2 = np.linspace(0,160,num =160)\n",
    "y2 = 2*np.sin(x2*36/1000-4)\n",
    "x = np.append(x1,x2)\n",
    "y = np.append(y2,y1)\n",
    "#print(y)\n",
    "y = y.reshape(-1,1)\n",
    "sklearn.feature_selection.mutual_info_regression(y,depth, n_neighbors = 3)"
   ]
  },
  {
   "cell_type": "code",
   "execution_count": 7,
   "metadata": {},
   "outputs": [
    {
     "name": "stdout",
     "output_type": "stream",
     "text": [
      "hello\n"
     ]
    }
   ],
   "source": [
    "a = [1]\n",
    "if a[0] != None:\n",
    "    print(\"hello\")"
   ]
  },
  {
   "cell_type": "markdown",
   "metadata": {},
   "source": [
    "negative frequency averaged"
   ]
  },
  {
   "cell_type": "code",
   "execution_count": 8,
   "metadata": {},
   "outputs": [
    {
     "name": "stdout",
     "output_type": "stream",
     "text": [
      "(0.5820121084899272, 0.0009261892227490885)\n"
     ]
    },
    {
     "name": "stderr",
     "output_type": "stream",
     "text": [
      "c:\\Users\\chang\\anaconda3\\envs\\semantic\\lib\\site-packages\\sklearn\\utils\\validation.py:1111: DataConversionWarning: A column-vector y was passed when a 1d array was expected. Please change the shape of y to (n_samples, ), for example using ravel().\n",
      "  y = column_or_1d(y, warn=True)\n"
     ]
    },
    {
     "data": {
      "text/plain": [
       "array([0.33191996])"
      ]
     },
     "execution_count": 8,
     "metadata": {},
     "output_type": "execute_result"
    }
   ],
   "source": [
    "xs = np.array([25.125, 26, 28.1, 31.6, 38, 35, 38.2, 38.5, 37.125, 39, 41, 34.25, 31.571428571428573, 30.125, 33.5, 27.416666666666668, 31.714285714285715, 27.666666666666668, 23.636363636363637, 21.333333333333332, 21.1, 21.2, 26.857142857142858, 15, 25.25, 26, 28, 34.666666666666664, 44])\n",
    "ys = np.array([2.4118 ,2.465 ,2.391 ,2.4104 ,2.4024 ,2.3571 ,2.5135 ,2.5442 ,2.4453 ,2.3812 ,2.2316 ,2.2196 ,2.2433 ,2.1881 ,2.165 ,2.1468 ,2.1633 ,2.006 ,1.978 ,1.9526 ,1.9971 ,2.0042 ,2.1029 ,2.1248 ,2.2143 ,2.1938 ,2.1897 ,2.2209 ,2.2431])\n",
    "#xs = stats.zscore(xs)\n",
    "#ys = stats.zscore(ys)\n",
    "pccs = pearsonr(xs,ys)\n",
    "print(pccs)\n",
    "xs = xs.reshape(-1,1)\n",
    "ys = ys.reshape(-1,1)\n",
    "'''scaler = MinMaxScaler(feature_range=(0,1)).fit(xs)\n",
    "sxs = scaler.transform(xs)\n",
    "scaler = MinMaxScaler(feature_range=(0,1)).fit(ys)\n",
    "sys = scaler.transform(ys)'''\n",
    "'''a = 4\n",
    "b = 7\n",
    "xs = xs[a:b]\n",
    "ys = ys[a:b]'''\n",
    "sklearn.feature_selection.mutual_info_regression(xs,ys,n_neighbors=3, discrete_features = 'auto')\n"
   ]
  },
  {
   "attachments": {},
   "cell_type": "markdown",
   "metadata": {},
   "source": [
    "negative averaged with 除以在wordnet的字的個數的min depth"
   ]
  },
  {
   "cell_type": "code",
   "execution_count": 20,
   "metadata": {},
   "outputs": [
    {
     "name": "stdout",
     "output_type": "stream",
     "text": [
      "(0.5820121084899272, 0.0009261892227490885)\n"
     ]
    },
    {
     "name": "stderr",
     "output_type": "stream",
     "text": [
      "c:\\Users\\chang\\anaconda3\\envs\\semantic\\lib\\site-packages\\sklearn\\utils\\validation.py:1111: DataConversionWarning: A column-vector y was passed when a 1d array was expected. Please change the shape of y to (n_samples, ), for example using ravel().\n",
      "  y = column_or_1d(y, warn=True)\n"
     ]
    },
    {
     "data": {
      "text/plain": [
       "array([0.33191996])"
      ]
     },
     "execution_count": 20,
     "metadata": {},
     "output_type": "execute_result"
    }
   ],
   "source": [
    "xs = np.array([25.125, 26, 28.1, 31.6, 38, 35, 38.2, 38.5, 37.125, 39, 41, 34.25, 31.571428571428573, 30.125, 33.5, 27.416666666666668, 31.714285714285715, 27.666666666666668, 23.636363636363637, 21.333333333333332, 21.1, 21.2, 26.857142857142858, 15, 25.25, 26, 28, 34.666666666666664, 44])\n",
    "ys = np.array([2.4118 ,2.465 ,2.391 ,2.4104 ,2.4024 ,2.3571 ,2.5135 ,2.5442 ,2.4453 ,2.3812 ,2.2316 ,2.2196 ,2.2433 ,2.1881 ,2.165 ,2.1468 ,2.1633 ,2.006 ,1.978 ,1.9526 ,1.9971 ,2.0042 ,2.1029 ,2.1248 ,2.2143 ,2.1938 ,2.1897 ,2.2209 ,2.2431])\n",
    "#xs = stats.zscore(xs)\n",
    "#ys = stats.zscore(ys)\n",
    "pccs = pearsonr(xs,ys)\n",
    "print(pccs)\n",
    "xs = xs.reshape(-1,1)\n",
    "ys = ys.reshape(-1,1)\n",
    "'''scaler = MinMaxScaler(feature_range=(0,1)).fit(xs)\n",
    "sxs = scaler.transform(xs)\n",
    "scaler = MinMaxScaler(feature_range=(0,1)).fit(ys)\n",
    "sys = scaler.transform(ys)'''\n",
    "'''a = 4\n",
    "b = 7\n",
    "xs = xs[a:b]\n",
    "ys = ys[a:b]'''\n",
    "sklearn.feature_selection.mutual_info_regression(xs,ys,n_neighbors=3, discrete_features = 'auto')\n"
   ]
  },
  {
   "cell_type": "markdown",
   "metadata": {},
   "source": [
    "negative frequency highest"
   ]
  },
  {
   "cell_type": "code",
   "execution_count": 10,
   "metadata": {},
   "outputs": [
    {
     "name": "stdout",
     "output_type": "stream",
     "text": [
      "[0.0365     0.034      0.035      0.0365     0.038      0.035\n",
      " 0.0382     0.0385     0.037125   0.039      0.041      0.03757143\n",
      " 0.0396     0.0402     0.038      0.034625   0.0394     0.0355\n",
      " 0.02942857 0.026      0.02342857 0.02433333 0.0285     0.\n",
      " 0.02525    0.026      0.028      0.03466667 0.044     ]\n",
      "(0.4519640543781901, 0.013840099376016594)\n"
     ]
    },
    {
     "name": "stderr",
     "output_type": "stream",
     "text": [
      "c:\\Users\\chang\\anaconda3\\envs\\semantic\\lib\\site-packages\\sklearn\\utils\\validation.py:1111: DataConversionWarning: A column-vector y was passed when a 1d array was expected. Please change the shape of y to (n_samples, ), for example using ravel().\n",
      "  y = column_or_1d(y, warn=True)\n"
     ]
    },
    {
     "data": {
      "text/plain": [
       "array([0.23441139])"
      ]
     },
     "execution_count": 10,
     "metadata": {},
     "output_type": "execute_result"
    }
   ],
   "source": [
    "xs = np.array([36.5, 34, 35, 36.5, 38, 35, 38.2, 38.5, 37.125, 39, 41, 37.57142857142857, 39.6, 40.2, 38, 34.625, 39.4, 35.5, 29.428571428571427, 26, 23.428571428571427, 24.333333333333332, 28.5, 0, 25.25, 26, 28, 34.666666666666664, 44])\n",
    "xs = xs/1000\n",
    "ys = np.array([2.4118 ,2.465 ,2.391 ,2.4104 ,2.4024 ,2.3571 ,2.5135 ,2.5442 ,2.4453 ,2.3812 ,2.2316 ,2.2196 ,2.2433 ,2.1881 ,2.165 ,2.1468 ,2.1633 ,2.006 ,1.978 ,1.9526 ,1.9971 ,2.0042 ,2.1029 ,2.1248 ,2.2143 ,2.1938 ,2.1897 ,2.2209 ,2.2431])\n",
    "print(xs)\n",
    "#xs = stats.zscore(xs)\n",
    "#ys = stats.zscore(ys)\n",
    "pccs = pearsonr(xs,ys)\n",
    "print(pccs)\n",
    "xs = xs.reshape(-1,1)\n",
    "ys = ys.reshape(-1,1)\n",
    "'''scaler = MinMaxScaler(feature_range=(0,1)).fit(xs)\n",
    "sxs = scaler.transform(xs)\n",
    "scaler = MinMaxScaler(feature_range=(0,1)).fit(ys)\n",
    "sys = scaler.transform(ys)'''\n",
    "'''a = 4\n",
    "b = 7\n",
    "xs = xs[a:b]\n",
    "ys = ys[a:b]'''\n",
    "sklearn.feature_selection.mutual_info_regression(xs,ys,n_neighbors=3, discrete_features = 'auto')\n"
   ]
  },
  {
   "cell_type": "markdown",
   "metadata": {},
   "source": [
    "positive pearson"
   ]
  },
  {
   "cell_type": "code",
   "execution_count": 11,
   "metadata": {},
   "outputs": [
    {
     "name": "stdout",
     "output_type": "stream",
     "text": [
      "29\n",
      "29\n",
      "(-0.39123842585115765, 0.03584443521556423)\n"
     ]
    },
    {
     "name": "stderr",
     "output_type": "stream",
     "text": [
      "c:\\Users\\chang\\anaconda3\\envs\\semantic\\lib\\site-packages\\sklearn\\utils\\validation.py:1111: DataConversionWarning: A column-vector y was passed when a 1d array was expected. Please change the shape of y to (n_samples, ), for example using ravel().\n",
      "  y = column_or_1d(y, warn=True)\n"
     ]
    },
    {
     "data": {
      "text/plain": [
       "array([0.25225478])"
      ]
     },
     "execution_count": 11,
     "metadata": {},
     "output_type": "execute_result"
    }
   ],
   "source": [
    "xs = np.array([19.333333333333332, 24.75, 21.5, 20.375, 19.333333333333332, 18.818181818181817, 18.818181818181817, 19.23076923076923, 18, 17.928571428571427, 23.22222222222222, 23, 25, 27.375, 28.4, 23.333333333333332, 17, 34.5, 15, 30.333333333333332, 38.75, 25.5, 31, 36, 36.666666666666664, 0, 44, 36.5, 30.5])\n",
    "xs = xs/1000\n",
    "ys = np.array([2.4118 ,2.465 ,2.391 ,2.4104 ,2.4024 ,2.3571 ,2.5135 ,2.5442 ,2.4453 ,2.3812 ,2.2316 ,2.2196 ,2.2433 ,2.1881 ,2.165 ,2.1468 ,2.1633 ,2.006 ,1.978 ,1.9526 ,1.9971 ,2.0042 ,2.1029 ,2.1248 ,2.2143 ,2.1938 ,2.1897 ,2.2209 ,2.2431])\n",
    "print(len(xs))\n",
    "print(len(ys))\n",
    "#xs = stats.zscore(xs)\n",
    "#ys = stats.zscore(ys)\n",
    "pccs = pearsonr(xs,ys)\n",
    "print(pccs)\n",
    "xs = xs.reshape(-1,1)\n",
    "ys = ys.reshape(-1,1)\n",
    "'''scaler = MinMaxScaler(feature_range=(0,1)).fit(xs)\n",
    "sxs = scaler.transform(xs)\n",
    "scaler = MinMaxScaler(feature_range=(0,1)).fit(ys)\n",
    "sys = scaler.transform(ys)'''\n",
    "'''a = 4\n",
    "b = 7\n",
    "xs = xs[a:b]\n",
    "ys = ys[a:b]'''\n",
    "sklearn.feature_selection.mutual_info_regression(xs,ys,n_neighbors=3, discrete_features = 'auto')\n"
   ]
  },
  {
   "cell_type": "markdown",
   "metadata": {},
   "source": [
    "pearson of both"
   ]
  },
  {
   "cell_type": "code",
   "execution_count": 12,
   "metadata": {},
   "outputs": [
    {
     "name": "stdout",
     "output_type": "stream",
     "text": [
      "29\n",
      "29\n",
      "(-0.13617453653755332, 0.48121039920170183)\n"
     ]
    },
    {
     "name": "stderr",
     "output_type": "stream",
     "text": [
      "c:\\Users\\chang\\anaconda3\\envs\\semantic\\lib\\site-packages\\sklearn\\utils\\validation.py:1111: DataConversionWarning: A column-vector y was passed when a 1d array was expected. Please change the shape of y to (n_samples, ), for example using ravel().\n",
      "  y = column_or_1d(y, warn=True)\n"
     ]
    },
    {
     "data": {
      "text/plain": [
       "array([0.28825584])"
      ]
     },
     "execution_count": 12,
     "metadata": {},
     "output_type": "execute_result"
    }
   ],
   "source": [
    "xs = np.array([23.545454545454547, 25.583333333333332, 26.214285714285715, 26.61111111111111, 30, 25.11111111111111, 24.875, 26.571428571428573, 24.375, 21.647058823529413, 29.571428571428573, 29, 28.833333333333332, 28.75, 31.8, 26.6, 29.875, 28.90909090909091, 22.916666666666668, 23.583333333333332, 26.142857142857142, 22.428571428571427, 29.066666666666666, 36, 30.142857142857142, 26, 33.333333333333336, 35.714285714285715, 33.2])\n",
    "xs = xs/1000\n",
    "ys = np.array([2.4118 ,2.465 ,2.391 ,2.4104 ,2.4024 ,2.3571 ,2.5135 ,2.5442 ,2.4453 ,2.3812 ,2.2316 ,2.2196 ,2.2433 ,2.1881 ,2.165 ,2.1468 ,2.1633 ,2.006 ,1.978 ,1.9526 ,1.9971 ,2.0042 ,2.1029 ,2.1248 ,2.2143 ,2.1938 ,2.1897 ,2.2209 ,2.2431])\n",
    "print(len(xs))\n",
    "print(len(ys))\n",
    "#xs = stats.zscore(xs)\n",
    "#ys = stats.zscore(ys)\n",
    "pccs = pearsonr(xs,ys)\n",
    "print(pccs)\n",
    "xs = xs.reshape(-1,1)\n",
    "ys = ys.reshape(-1,1)\n",
    "'''scaler = MinMaxScaler(feature_range=(0,1)).fit(xs)\n",
    "sxs = scaler.transform(xs)\n",
    "scaler = MinMaxScaler(feature_range=(0,1)).fit(ys)\n",
    "sys = scaler.transform(ys)'''\n",
    "'''a = 4\n",
    "b = 7\n",
    "xs = xs[a:b]\n",
    "ys = ys[a:b]'''\n",
    "sklearn.feature_selection.mutual_info_regression(xs,ys,n_neighbors=3, discrete_features = 'auto')\n"
   ]
  },
  {
   "attachments": {},
   "cell_type": "markdown",
   "metadata": {},
   "source": [
    "-13.035150647396053 ,-15.076303201245706 ,-16.36490378681652 ,-19.104484241832413 ,-21.68824406108538 ,-18.690725734310604 ,-16.53262383142481 ,-14.911720938731996 ,-14.791214139820259 ,-10.939269021845794 ,-11.752206335336641 ,-16.477031370748687 ,-14.104024126795675 ,-16.625226579437115 ,-15.891944810042014 ,-20.036182927702093 ,-17.751335336506365 ,-19.464064144951223 ,-19.19676837321407 ,-17.621783805882426 ,-15.93193370704977 ,-10.500803727426181 ,-13.303329511378024 ,-7.918267978127916 ,-8.483341281016388 ,-9.608307130649111 ,-10.064197816594033 ,-9.882609210905901 ,-6.0418003164453165"
   ]
  },
  {
   "attachments": {},
   "cell_type": "markdown",
   "metadata": {},
   "source": [
    "pc all and min word depth"
   ]
  },
  {
   "cell_type": "code",
   "execution_count": 13,
   "metadata": {},
   "outputs": [
    {
     "name": "stdout",
     "output_type": "stream",
     "text": [
      "29\n",
      "29\n",
      "(0.6038884760392068, 0.0005229944910905197)\n"
     ]
    },
    {
     "name": "stderr",
     "output_type": "stream",
     "text": [
      "c:\\Users\\chang\\anaconda3\\envs\\semantic\\lib\\site-packages\\sklearn\\utils\\validation.py:1111: DataConversionWarning: A column-vector y was passed when a 1d array was expected. Please change the shape of y to (n_samples, ), for example using ravel().\n",
      "  y = column_or_1d(y, warn=True)\n"
     ]
    },
    {
     "data": {
      "text/plain": [
       "array([0.25978531])"
      ]
     },
     "execution_count": 13,
     "metadata": {},
     "output_type": "execute_result"
    }
   ],
   "source": [
    "xs = np.array([-0.9907099449340101 ,-0.8344606542698264 ,-0.4738191867555438 ,0.5096851497459597 ,0.6858704731669327 ,1.5803542772681627 ,1.6499586056091535 ,1.6309818999465493 ,1.8386267765567441 ,2.082985828435434 ,1.1315710285175546 ,0.813648299598723 ,0.6558450877902887 ,0.8123652407089065 ,-0.10586137539586951 ,-0.9787023159636993 ,-0.3742368093767639 ,-0.6173177792285347 ,-1.3071505915630826 ,-0.6097214604077794 ,-1.0878233250484162 ,-0.8273583499669387 ,-0.41097362828600764 ,0.6764446389888902 ,-0.5312770663555225 ,-0.2597175189467282 ,-0.3950387039216515 ,-0.07567584939411436 ,0.4021757501703655])\n",
    "ys = np.array([2.4118 ,2.465 ,2.391 ,2.4104 ,2.4024 ,2.3571 ,2.5135 ,2.5442 ,2.4453 ,2.3812 ,2.2316 ,2.2196 ,2.2433 ,2.1881 ,2.165 ,2.1468 ,2.1633 ,2.006 ,1.978 ,1.9526 ,1.9971 ,2.0042 ,2.1029 ,2.1248 ,2.2143 ,2.1938 ,2.1897 ,2.2209 ,2.2431])\n",
    "print(len(xs))\n",
    "print(len(ys))\n",
    "#xs = stats.zscore(xs)\n",
    "#ys = stats.zscore(ys)\n",
    "pccs = pearsonr(xs,ys)\n",
    "print(pccs)\n",
    "xs = xs.reshape(-1,1)\n",
    "ys = ys.reshape(-1,1)\n",
    "'''scaler = MinMaxScaler(feature_range=(0,1)).fit(xs)\n",
    "sxs = scaler.transform(xs)\n",
    "scaler = MinMaxScaler(feature_range=(0,1)).fit(ys)\n",
    "sys = scaler.transform(ys)'''\n",
    "'''a = 4\n",
    "b = 7\n",
    "xs = xs[a:b]\n",
    "ys = ys[a:b]'''\n",
    "sklearn.feature_selection.mutual_info_regression(xs,ys,n_neighbors=3, discrete_features = 'auto')\n"
   ]
  },
  {
   "cell_type": "markdown",
   "metadata": {},
   "source": [
    "random words"
   ]
  },
  {
   "cell_type": "code",
   "execution_count": 14,
   "metadata": {},
   "outputs": [
    {
     "name": "stdout",
     "output_type": "stream",
     "text": [
      "[0.027      0.03277778 0.03657143 0.03185714 0.03333333 0.03766667\n",
      " 0.028      0.03316667 0.02466667 0.0305     0.0305     0.0155\n",
      " 0.02       0.033      0.02775    0.0172     0.01825    0.028875\n",
      " 0.029      0.0235     0.037      0.026      0.02766667 0.0265\n",
      " 0.02466667 0.022      0.016      0.023      0.02566667 0.029\n",
      " 0.03016667 0.04       0.03       0.0305     0.0305     0.035\n",
      " 0.03733333 0.03414286 0.02971429]\n",
      "(0.010241831142875774, 0.9506577684863396)\n"
     ]
    },
    {
     "name": "stderr",
     "output_type": "stream",
     "text": [
      "c:\\Users\\chang\\anaconda3\\envs\\semantic\\lib\\site-packages\\sklearn\\utils\\validation.py:1111: DataConversionWarning: A column-vector y was passed when a 1d array was expected. Please change the shape of y to (n_samples, ), for example using ravel().\n",
      "  y = column_or_1d(y, warn=True)\n"
     ]
    },
    {
     "data": {
      "text/plain": [
       "array([0.01630828])"
      ]
     },
     "execution_count": 14,
     "metadata": {},
     "output_type": "execute_result"
    }
   ],
   "source": [
    "xs = np.array([27, 32.77777777777778, 36.57142857142857, 31.857142857142858, 33.333333333333336, 37.666666666666664, 28, 33.166666666666664, 24.666666666666668, 30.5, 30.5, 15.5, 20, 33, 27.75, 17.2, 18.25, 28.875, 29, 23.5, 37, 26, 27.666666666666668, 26.5, 24.666666666666668, 22, 16, 23, 25.666666666666668, 29, 30.166666666666668, 40, 30, 30.5, 30.5, 35, 37.333333333333336, 34.142857142857146, 29.714285714285715])\n",
    "xs = xs/1000\n",
    "ys = np.array([1.3936 ,1.3363 ,1.353 ,1.2508 ,1.1266 ,1.1488 ,1.1429 ,1.2042 ,1.2404 ,1.2566 ,1.2855 ,1.1792 ,1.27 ,1.2716 ,1.315 ,1.4013 ,1.3955 ,1.5044 ,1.4304 ,1.3467 ,1.3972 ,1.412 ,1.4932 ,1.4378 ,1.429 ,1.4573 ,1.3961 ,1.4087 ,1.3573 ,1.3773 ,1.4369 ,1.4741 ,1.4984 ,1.4768 ,1.4308 ,1.4198 ,1.4696 ,1.4549 ,1.4416 ])\n",
    "print(xs)\n",
    "#xs = stats.zscore(xs)\n",
    "#ys = stats.zscore(ys)\n",
    "pccs = pearsonr(xs,ys)\n",
    "print(pccs)\n",
    "xs = xs.reshape(-1,1)\n",
    "ys = ys.reshape(-1,1)\n",
    "'''scaler = MinMaxScaler(feature_range=(0,1)).fit(xs)\n",
    "sxs = scaler.transform(xs)\n",
    "scaler = MinMaxScaler(feature_range=(0,1)).fit(ys)\n",
    "sys = scaler.transform(ys)'''\n",
    "'''a = 4\n",
    "b = 7\n",
    "xs = xs[a:b]\n",
    "ys = ys[a:b]'''\n",
    "sklearn.feature_selection.mutual_info_regression(xs,ys,n_neighbors=3, discrete_features = 'auto')\n"
   ]
  },
  {
   "cell_type": "code",
   "execution_count": 15,
   "metadata": {},
   "outputs": [],
   "source": [
    "f = np.array([0.035,\n",
    "0.025,\n",
    "0.027,\n",
    "0.024,\n",
    "0.027,\n",
    "0.043,\n",
    "0.05,\n",
    "0.04,\n",
    "0.031,\n",
    "0.0664,\n",
    "0.014])\n",
    "wd = np.array([0.8841,\n",
    "0.8409,\n",
    "0.9607,\n",
    "0.8972,\n",
    "0.893,\n",
    "0.961,\n",
    "0.963,\n",
    "0.9,\n",
    "0.873,\n",
    "0.882,\n",
    "0.8694])"
   ]
  },
  {
   "cell_type": "code",
   "execution_count": 16,
   "metadata": {},
   "outputs": [
    {
     "name": "stdout",
     "output_type": "stream",
     "text": [
      "[0.35380835 0.         0.98116298 0.46109746 0.42669943 0.98361998\n",
      " 1.         0.48402948 0.26289926 0.33660934 0.23341523] [0.40076336 0.20992366 0.2480916  0.19083969 0.2480916  0.55343511\n",
      " 0.6870229  0.49618321 0.32442748 1.         0.        ]\n"
     ]
    },
    {
     "name": "stderr",
     "output_type": "stream",
     "text": [
      "C:\\Users\\chang\\AppData\\Local\\Temp\\ipykernel_16336\\1089397548.py:7: RuntimeWarning: invalid value encountered in log\n",
      "  logzf = np.log(zf)\n",
      "C:\\Users\\chang\\AppData\\Local\\Temp\\ipykernel_16336\\1089397548.py:8: RuntimeWarning: invalid value encountered in log\n",
      "  logzwd = np.log(zwd)\n"
     ]
    }
   ],
   "source": [
    "logf = np.log(f)\n",
    "logwd = np.log(wd)\n",
    "zlogf = stats.zscore(logf)\n",
    "zlogwd = stats.zscore(logwd)\n",
    "zf = stats.zscore(f)\n",
    "zwd = stats.zscore(wd)\n",
    "logzf = np.log(zf)\n",
    "logzwd = np.log(zwd)\n",
    "f = f.reshape(-1, 1)\n",
    "wd = wd.reshape(-1, 1)\n",
    "scaler = MinMaxScaler(feature_range=(0,1)).fit(f)\n",
    "f_scaled = scaler.transform(f)\n",
    "scaler = MinMaxScaler(feature_range=(0,1)).fit(wd)\n",
    "wd_scaled = scaler.transform(wd)\n",
    "f_scaled.reshape(1,-1)\n",
    "f_scaled = np.squeeze(f_scaled)\n",
    "np.squeeze(f_scaled)\n",
    "wd_scaled.reshape(1,-1)\n",
    "wd_scaled = np.squeeze(wd_scaled)\n",
    "np.squeeze(wd_scaled)\n",
    "print(wd_scaled, f_scaled)"
   ]
  },
  {
   "cell_type": "code",
   "execution_count": 17,
   "metadata": {},
   "outputs": [
    {
     "name": "stderr",
     "output_type": "stream",
     "text": [
      "c:\\Users\\chang\\anaconda3\\envs\\semantic\\lib\\site-packages\\sklearn\\utils\\validation.py:1111: DataConversionWarning: A column-vector y was passed when a 1d array was expected. Please change the shape of y to (n_samples, ), for example using ravel().\n",
      "  y = column_or_1d(y, warn=True)\n"
     ]
    },
    {
     "data": {
      "text/plain": [
       "array([0.5])"
      ]
     },
     "execution_count": 17,
     "metadata": {},
     "output_type": "execute_result"
    }
   ],
   "source": [
    "a = [0.027,0.043,0.050]\n",
    "b = [0.893,0.961,0.963]\n",
    "xs = stats.zscore(a)\n",
    "ys = stats.zscore(b)\n",
    "xs = xs.reshape(-1,1)\n",
    "ys = ys.reshape(-1,1)\n",
    "#a = stats.zscore(a)\n",
    "#b = stats.zscore(b)\n",
    "sklearn.feature_selection.mutual_info_regression(xs,ys,n_neighbors=1, discrete_features = 'auto')\n",
    "\n",
    "#print(pccs)"
   ]
  },
  {
   "cell_type": "code",
   "execution_count": 18,
   "metadata": {},
   "outputs": [
    {
     "name": "stdout",
     "output_type": "stream",
     "text": [
      "(0.3701361431175814, 0.26251388895811534)\n",
      "(0.30260629938301453, 0.36573420338959517)\n"
     ]
    }
   ],
   "source": [
    "pccs = pearsonr(zlogf, zlogwd)\n",
    "print(pccs)\n",
    "pccs = pearsonr(f_scaled, wd_scaled)\n",
    "print(pccs)"
   ]
  },
  {
   "cell_type": "code",
   "execution_count": 19,
   "metadata": {},
   "outputs": [
    {
     "data": {
      "image/png": "[encoded data removed]",
      "text/plain": [
       "<Figure size 640x480 with 1 Axes>"
      ]
     },
     "metadata": {},
     "output_type": "display_data"
    }
   ],
   "source": [
    "plt.figure()\n",
    "plt.plot(f_scaled, wd_scaled)\n",
    "plt.show()"
   ]
  }
 ],
 "metadata": {
  "kernelspec": {
   "display_name": "Python 3.8.13 ('semantic')",
   "language": "python",
   "name": "python3"
  },
  "language_info": {
   "codemirror_mode": {
    "name": "ipython",
    "version": 3
   },
   "file_extension": ".py",
   "mimetype": "text/x-python",
   "name": "python",
   "nbconvert_exporter": "python",
   "pygments_lexer": "ipython3",
   "version": "3.8.13"
  },
  "orig_nbformat": 4,
  "vscode": {
   "interpreter": {
    "hash": "c54165d08fd550b20e5d70a45269718a12194b1a3ed2e8c4cf823acd6cf23912"
   }
  }
 },
 "nbformat": 4,
 "nbformat_minor": 2
}
