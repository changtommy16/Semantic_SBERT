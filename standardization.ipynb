{
 "cells": [
  {
   "cell_type": "code",
   "execution_count": 198,
   "metadata": {},
   "outputs": [],
   "source": [
    "from operator import length_hint\n",
    "from statistics import mean\n",
    "from turtle import filling\n",
    "import pandas as pd\n",
    "from matplotlib import pyplot as plt\n",
    "from matplotlib.backends.backend_pdf import PdfFile, PdfPages\n",
    "#df = pd.read_csv(\"data/text/002(results).csv\")\n",
    "import statistics\n",
    "import scipy\n",
    "from sklearn import preprocessing\n",
    "from sklearn.datasets import make_moons\n",
    "from scipy.stats import pearsonr\n",
    "from dtaidistance import dtw\n",
    "from scipy.signal import hilbert, chirp\n",
    "from sklearn.preprocessing import MinMaxScaler\n",
    "from scipy import stats\n",
    "import math\n",
    "from matplotlib import pyplot as plt\n",
    "import numpy as np\n",
    "import sklearn\n",
    "from sklearn.feature_selection import mutual_info_regression\n",
    "    "
   ]
  },
  {
   "cell_type": "code",
   "execution_count": 199,
   "metadata": {},
   "outputs": [
    {
     "name": "stderr",
     "output_type": "stream",
     "text": [
      "c:\\Users\\chang\\anaconda3\\envs\\semantic\\lib\\site-packages\\sklearn\\utils\\validation.py:1111: DataConversionWarning: A column-vector y was passed when a 1d array was expected. Please change the shape of y to (n_samples, ), for example using ravel().\n",
      "  y = column_or_1d(y, warn=True)\n"
     ]
    },
    {
     "data": {
      "text/plain": [
       "array([0.10305122])"
      ]
     },
     "execution_count": 199,
     "metadata": {},
     "output_type": "execute_result"
    }
   ],
   "source": [
    "df = pd.read_csv(\"data/Text/008(ancestor).csv\")\n",
    "a = np.array([df[\"Wu-Pulmer_divided\"]])\n",
    "b = np.array([df[\"ancestor_depth\"]])\n",
    "a = np.squeeze(a)\n",
    "a = a.reshape(-1, 1)\n",
    "b = np.squeeze(b)\n",
    "b = b.reshape(-1,1)\n",
    "freq = [0.027]*100 + [0.036]*160+ [0]*39 +[0.024]*180\n",
    "freq = np.array([freq])\n",
    "freq = freq.reshape(-1,1)\n",
    "sklearn.feature_selection.mutual_info_regression(freq,b, n_neighbors = 3)\n"
   ]
  },
  {
   "cell_type": "code",
   "execution_count": 200,
   "metadata": {},
   "outputs": [
    {
     "name": "stderr",
     "output_type": "stream",
     "text": [
      "c:\\Users\\chang\\anaconda3\\envs\\semantic\\lib\\site-packages\\sklearn\\utils\\validation.py:1111: DataConversionWarning: A column-vector y was passed when a 1d array was expected. Please change the shape of y to (n_samples, ), for example using ravel().\n",
      "  y = column_or_1d(y, warn=True)\n"
     ]
    },
    {
     "data": {
      "text/plain": [
       "array([0.0907533])"
      ]
     },
     "execution_count": 200,
     "metadata": {},
     "output_type": "execute_result"
    }
   ],
   "source": [
    "df = pd.read_csv(\"data/Text/010(ancestor).csv\")\n",
    "a = np.array([df[\"Wu-Pulmer_divided\"]])\n",
    "b = np.array([df[\"ancestor_depth\"]])\n",
    "a = np.squeeze(a)\n",
    "a = a.reshape(-1, 1)\n",
    "b = np.squeeze(b)\n",
    "b = b.reshape(-1,1)\n",
    "freq = [0.027]*150 +[0.043]*150 +[0.05]*179\n",
    "freq = np.array([freq])\n",
    "freq = freq.reshape(-1,1)\n",
    "sklearn.feature_selection.mutual_info_regression(freq,b, n_neighbors = 3)\n"
   ]
  },
  {
   "cell_type": "code",
   "execution_count": 201,
   "metadata": {},
   "outputs": [
    {
     "name": "stdout",
     "output_type": "stream",
     "text": [
      "[ 1.31514581  1.27860778  1.2413333   1.20334384  1.1646613   1.12530794\n",
      "  1.08530644  1.04467983  1.00345151  0.96164523  0.91928507  0.87639543\n",
      "  0.83300101  0.7891268   0.74479808  0.70004037  0.65487946  0.60934136\n",
      "  0.5634523   0.5172387   0.47072719  0.42394455  0.37691773  0.32967381\n",
      "  0.28224002  0.23464366  0.18691215  0.13907299  0.09115372  0.04318195\n",
      " -0.00481469 -0.05280855 -0.100772   -0.14867741 -0.19649719 -0.24420378\n",
      " -0.29176973 -0.33916762 -0.38637016 -0.43335016 -0.48008056 -0.52653446\n",
      " -0.57268508 -0.61850585 -0.66397038 -0.70905248 -0.75372618 -0.79796576\n",
      " -0.84174574 -0.88504089 -0.92782628 -0.97007727 -1.01176952 -1.05287902\n",
      " -1.09338209 -1.13325541 -1.172476   -1.21102127 -1.24886904 -1.28599748\n",
      " -1.32238523 -1.35801132 -1.39285524 -1.42689691 -1.46011672 -1.49249555\n",
      " -1.52401474 -1.55465614 -1.58440211 -1.6132355  -1.64113971 -1.66809867\n",
      " -1.69409685 -1.71911928 -1.74315154 -1.7661798  -1.78819079 -1.80917183\n",
      " -1.82911083 -1.84799632 -1.86581741 -1.88256384 -1.89822597 -1.91279478\n",
      " -1.92626186 -1.93861947 -1.94986049 -1.95997845 -1.96896751 -1.9768225\n",
      " -1.9835389  -1.98911283 -1.99354109 -1.99682113 -1.99895105 -1.99992963\n",
      " -1.9997563  -1.99843117 -1.995955   -1.99232922 -1.98755591 -1.98163782\n",
      " -1.97457836 -1.9663816  -1.95705226 -1.94659571 -1.93501798 -1.92232573\n",
      " -1.90852627 -1.89362755 -1.87763816 -1.8605673  -1.8424248  -1.82322112\n",
      " -1.80296731 -1.78167505 -1.75935658 -1.73602478 -1.71169308 -1.68637548\n",
      " -1.66008659 -1.63284152 -1.60465599 -1.57554622 -1.54552898 -1.51462155\n",
      " -1.48284175 -1.45020787 -1.41673871 -1.38245354 -1.34737213 -1.31151466\n",
      " -1.2749018  -1.23755463 -1.19949466 -1.16074381 -1.12132441 -1.08125916\n",
      " -1.04057113 -0.99928377 -0.95742084 -0.91500646 -0.87206507 -0.82862139\n",
      " -0.78470045 -0.74032754 -0.69552822 -0.6503283  -0.60475381 -0.558831\n",
      " -0.51258631 -0.46604639 -0.41923804 -0.37218822 -0.32492403 -0.27747269\n",
      " -0.22986154 -0.18211799 -0.13426955 -0.08634377 -0.03836826  0.00962935\n",
      "  0.05762141  0.10558029  0.15347835  0.20128801  0.24898174  0.29653206\n",
      "  0.34391159  0.39109303  0.43804921  0.48475309  0.53117777  0.5772965\n",
      "  0.62308273  0.66851007  0.71355238  0.75818369  0.80237832  0.84611079\n",
      "  0.88935593  0.93208883  0.97428487  1.01591974  1.05696948  1.09741043\n",
      "  1.1372193   1.17637317  1.21484947  1.25262606  1.28968117  1.32599346\n",
      "  1.36154201  1.39630635  1.43026646  1.46340278  1.49569621  1.52712817\n",
      "  1.55768054  1.58733573  1.61607666  1.64388677  1.67075005  1.69665103\n",
      "  1.72157478  1.74550695  1.76843375  1.79034199  1.81121904  1.83105288\n",
      "  1.84983208  1.86754584  1.88418393  1.89973679  1.91419545  1.92755159\n",
      "  1.93979751  1.95092616  1.96093114  1.96980667  1.97754764  1.98414961\n",
      "  1.98960876  1.99392195  1.99708669  1.99910117  1.99996422  1.99967535\n",
      "  1.99823472  1.99564316  1.99190216  1.98701389  1.98098115  1.97380742\n",
      "  1.96549683  1.95605417  1.94548488  1.93379504  1.92099139  1.9070813\n",
      "  1.89207278  1.87597449  1.85879568  1.84054626  1.82123673  1.80087823\n",
      "  1.77948246  1.75706177  1.73362905  1.70919782  1.68378213  1.65739663\n",
      "  1.63005651  1.60177753  1.57257597  1.54246865  1.51147291  1.4796066\n",
      "  1.44688808  1.41333619  1.37897026  1.34381008  1.30787591  1.27118843\n",
      "  1.23376878  1.19563852  1.1568196   1.11733439  1.07720562  1.03645641\n",
      "  0.99511023  0.9531909   0.91072255  0.86772966  0.82423697  0.78026955\n",
      "  0.73585271  0.69101204  0.64577337  0.60016275  0.55420646  0.50793095\n",
      "  0.46136289  0.4145291   0.36745656  0.32017236  0.27270376  0.22507809\n",
      "  0.17732278  0.12946533  0.08153332  0.03355435 -0.01444395 -0.06243393\n",
      " -0.11038795 -0.15827839 -0.20607767 -0.25375825 -0.30129268 -0.34865356\n",
      " -0.39581363 -0.44274573 -0.48942281 -0.53581801 -0.58190458 -0.627656\n",
      " -0.6730459  -0.71804814 -0.76263681 -0.80678622 -0.85047095 -0.89366583\n",
      " -0.93634598 -0.97848682 -1.02006408 -1.06105381 -1.10143241 -1.14117661\n",
      " -1.18026352 -1.21867063 -1.25637583 -1.29335738 -1.329594   -1.36506481\n",
      " -1.39974938 -1.43362773 -1.46668035 -1.4988882  -1.53023274 -1.5606959\n",
      " -1.59026015 -1.61890845 -1.64662431 -1.67339175 -1.69919537 -1.72402029\n",
      " -1.74785223 -1.77067746 -1.79248282 -1.81325576 -1.83298432 -1.85165713\n",
      " -1.86926344 -1.8857931  -1.9012366  -1.91558503 -1.92883015 -1.94096431\n",
      " -1.95198053 -1.96187246 -1.97063441 -1.97826133 -1.98474882 -1.99009315\n",
      " -1.99429124 -1.99734068 -1.99923971 -1.99998722 -1.9995828  -1.99802668\n",
      " -1.99531975 -1.99146357 -1.98646036 -1.980313   -1.97302504 -1.96460067\n",
      " -1.95504475 -1.94436277 -1.9325609  -1.91964592 -1.90562528 -1.89050705\n",
      " -1.87429994 -1.85701329 -1.83865705 -1.8192418  -1.79877871 -1.77727957\n",
      " -1.75475677  0.05399344  0.10794752  0.16182291  0.21558034  0.26918062\n",
      "  0.32258468  0.37575359  0.4286486   0.48123113  0.53346287  0.58530574\n",
      "  0.63672195  0.68767402  0.7381248   0.78803752  0.8373758   0.88610367\n",
      "  0.9341856   0.98158656  1.02827198  1.07420784  1.11936065  1.1636975\n",
      "  1.20718606  1.24979463  1.29149216  1.33224825  1.37203319  1.41081798\n",
      "  1.44857435  1.48527477  1.52089249  1.55540154  1.58877678  1.62099387\n",
      "  1.65202932  1.68186052  1.71046572  1.73782407  1.76391561  1.78872134\n",
      "  1.81222318  1.83440398  1.85524758  1.87473879  1.8928634   1.90960819\n",
      "  1.92496097  1.93891053  1.95144672  1.96256038  1.97224343  1.98048879\n",
      "  1.98729047  1.9926435   1.99654399  1.99898908  1.999977    1.99950702\n",
      "  1.99757949  1.99419581  1.98935845  1.98307094  1.97533786  1.96616484\n",
      "  1.95555858  1.9435268   1.93007827  1.91522281  1.89897123  1.88133539\n",
      "  1.86232813  1.84196332  1.8202558   1.7972214   1.7728769   1.74724005\n",
      "  1.72032954  1.69216499  1.66276692  1.63215677  1.60035685  1.56739034\n",
      "  1.53328128  1.49805451  1.46173574  1.42435142  1.38592881  1.34649593\n",
      "  1.3060815   1.264715    1.22242658  1.17924707  1.13520794  1.09034129\n",
      "  1.04467983  0.99825684  0.95110617  0.90326218  0.85475976]\n"
     ]
    },
    {
     "name": "stderr",
     "output_type": "stream",
     "text": [
      "c:\\Users\\chang\\anaconda3\\envs\\semantic\\lib\\site-packages\\sklearn\\utils\\validation.py:1111: DataConversionWarning: A column-vector y was passed when a 1d array was expected. Please change the shape of y to (n_samples, ), for example using ravel().\n",
      "  y = column_or_1d(y, warn=True)\n"
     ]
    },
    {
     "data": {
      "text/plain": [
       "array([0.34363473])"
      ]
     },
     "execution_count": 201,
     "metadata": {},
     "output_type": "execute_result"
    }
   ],
   "source": [
    "df = pd.read_csv(\"data/Text/013(ancestor).csv\")\n",
    "a = np.array([df[\"Wu-Pulmer_divided\"]])\n",
    "b = np.array([df[\"ancestor_depth\"]])\n",
    "a = np.squeeze(a)\n",
    "a = a.reshape(-1, 1)\n",
    "b = np.squeeze(b)\n",
    "b = b.reshape(-1,1)\n",
    "freq = [0.04]*100  +[0.031]*379\n",
    "freq = np.array([freq])\n",
    "freq = freq.reshape(-1,1)\n",
    "x1 = np.linspace(1,100,num =100)\n",
    "y1 = 2*np.sin(x1*27/1000)\n",
    "x2 = np.linspace(101,479,num =379)\n",
    "y2 = 2*np.sin(x2*24/1000)\n",
    "x = np.append(x1,x2)\n",
    "y = np.append(y2,y1)\n",
    "print(y)\n",
    "y = y.reshape(-1,1)\n",
    "sklearn.feature_selection.mutual_info_regression(y,b, n_neighbors = 5)\n",
    "#distance = dtw.distance(std1, std2, window = 10)\n"
   ]
  },
  {
   "cell_type": "code",
   "execution_count": 202,
   "metadata": {},
   "outputs": [
    {
     "name": "stdout",
     "output_type": "stream",
     "text": [
      "hello\n"
     ]
    }
   ],
   "source": [
    "a = [1]\n",
    "if a[0] != None:\n",
    "    print(\"hello\")"
   ]
  },
  {
   "cell_type": "code",
   "execution_count": 203,
   "metadata": {},
   "outputs": [
    {
     "name": "stderr",
     "output_type": "stream",
     "text": [
      "c:\\Users\\chang\\anaconda3\\envs\\semantic\\lib\\site-packages\\sklearn\\utils\\validation.py:1111: DataConversionWarning: A column-vector y was passed when a 1d array was expected. Please change the shape of y to (n_samples, ), for example using ravel().\n",
      "  y = column_or_1d(y, warn=True)\n"
     ]
    },
    {
     "data": {
      "text/plain": [
       "array([0.05023148])"
      ]
     },
     "execution_count": 203,
     "metadata": {},
     "output_type": "execute_result"
    }
   ],
   "source": [
    "xs = np.array([0.035,0.025,0.027,0.036,0.024,0.027,0.043,0.05,0.04,0.031,0.0664,0.014])\n",
    "ys = np.array([0.8841,0.8409,0.962,0.973,0.8972,0.893,0.961,0.963,0.9,0.873,0.882,0.8694])\n",
    "xs = stats.zscore(xs)\n",
    "ys = stats.zscore(ys)\n",
    "xs = xs.reshape(-1,1)\n",
    "ys = ys.reshape(-1,1)\n",
    "'''scaler = MinMaxScaler(feature_range=(0,1)).fit(xs)\n",
    "sxs = scaler.transform(xs)\n",
    "scaler = MinMaxScaler(feature_range=(0,1)).fit(ys)\n",
    "sys = scaler.transform(ys)'''\n",
    "'''a = 4\n",
    "b = 7\n",
    "xs = xs[a:b]\n",
    "ys = ys[a:b]'''\n",
    "sklearn.feature_selection.mutual_info_regression(xs,ys,n_neighbors=5, discrete_features = 'auto')\n"
   ]
  },
  {
   "cell_type": "code",
   "execution_count": 204,
   "metadata": {},
   "outputs": [],
   "source": [
    "f = np.array([0.035,\n",
    "0.025,\n",
    "0.027,\n",
    "0.024,\n",
    "0.027,\n",
    "0.043,\n",
    "0.05,\n",
    "0.04,\n",
    "0.031,\n",
    "0.0664,\n",
    "0.014])\n",
    "wd = np.array([0.8841,\n",
    "0.8409,\n",
    "0.9607,\n",
    "0.8972,\n",
    "0.893,\n",
    "0.961,\n",
    "0.963,\n",
    "0.9,\n",
    "0.873,\n",
    "0.882,\n",
    "0.8694])"
   ]
  },
  {
   "cell_type": "code",
   "execution_count": 205,
   "metadata": {},
   "outputs": [
    {
     "name": "stdout",
     "output_type": "stream",
     "text": [
      "[0.35380835 0.         0.98116298 0.46109746 0.42669943 0.98361998\n",
      " 1.         0.48402948 0.26289926 0.33660934 0.23341523] [0.40076336 0.20992366 0.2480916  0.19083969 0.2480916  0.55343511\n",
      " 0.6870229  0.49618321 0.32442748 1.         0.        ]\n"
     ]
    },
    {
     "name": "stderr",
     "output_type": "stream",
     "text": [
      "C:\\Users\\chang\\AppData\\Local\\Temp\\ipykernel_27532\\1089397548.py:7: RuntimeWarning: invalid value encountered in log\n",
      "  logzf = np.log(zf)\n",
      "C:\\Users\\chang\\AppData\\Local\\Temp\\ipykernel_27532\\1089397548.py:8: RuntimeWarning: invalid value encountered in log\n",
      "  logzwd = np.log(zwd)\n"
     ]
    }
   ],
   "source": [
    "logf = np.log(f)\n",
    "logwd = np.log(wd)\n",
    "zlogf = stats.zscore(logf)\n",
    "zlogwd = stats.zscore(logwd)\n",
    "zf = stats.zscore(f)\n",
    "zwd = stats.zscore(wd)\n",
    "logzf = np.log(zf)\n",
    "logzwd = np.log(zwd)\n",
    "f = f.reshape(-1, 1)\n",
    "wd = wd.reshape(-1, 1)\n",
    "scaler = MinMaxScaler(feature_range=(0,1)).fit(f)\n",
    "f_scaled = scaler.transform(f)\n",
    "scaler = MinMaxScaler(feature_range=(0,1)).fit(wd)\n",
    "wd_scaled = scaler.transform(wd)\n",
    "f_scaled.reshape(1,-1)\n",
    "f_scaled = np.squeeze(f_scaled)\n",
    "np.squeeze(f_scaled)\n",
    "wd_scaled.reshape(1,-1)\n",
    "wd_scaled = np.squeeze(wd_scaled)\n",
    "np.squeeze(wd_scaled)\n",
    "print(wd_scaled, f_scaled)"
   ]
  },
  {
   "cell_type": "code",
   "execution_count": 206,
   "metadata": {},
   "outputs": [
    {
     "name": "stdout",
     "output_type": "stream",
     "text": [
      "[[ 0.53624186]\n",
      " [ 0.86516345]\n",
      " [-1.40140532]]\n"
     ]
    },
    {
     "name": "stderr",
     "output_type": "stream",
     "text": [
      "c:\\Users\\chang\\anaconda3\\envs\\semantic\\lib\\site-packages\\sklearn\\utils\\validation.py:1111: DataConversionWarning: A column-vector y was passed when a 1d array was expected. Please change the shape of y to (n_samples, ), for example using ravel().\n",
      "  y = column_or_1d(y, warn=True)\n"
     ]
    }
   ],
   "source": [
    "a = [0.027,0.036,0.024]\n",
    "b = [0.962,0.973,0.8972]\n",
    "xs = stats.zscore(a)\n",
    "ys = stats.zscore(b)\n",
    "xs = xs.reshape(-1,1)\n",
    "ys = ys.reshape(-1,1)\n",
    "print(ys)\n",
    "#a = stats.zscore(a)\n",
    "#b = stats.zscore(b)\n",
    "sklearn.feature_selection.mutual_info_regression(xs,ys,n_neighbors=2, discrete_features = 'auto')\n",
    "pccs = pearsonr(a, b)\n",
    "#print(pccs)"
   ]
  },
  {
   "cell_type": "code",
   "execution_count": 207,
   "metadata": {},
   "outputs": [
    {
     "name": "stdout",
     "output_type": "stream",
     "text": [
      "(0.3701361431175814, 0.26251388895811534)\n",
      "(0.30260629938301453, 0.36573420338959517)\n"
     ]
    }
   ],
   "source": [
    "pccs = pearsonr(zlogf, zlogwd)\n",
    "print(pccs)\n",
    "pccs = pearsonr(f_scaled, wd_scaled)\n",
    "print(pccs)"
   ]
  },
  {
   "cell_type": "code",
   "execution_count": 208,
   "metadata": {},
   "outputs": [
    {
     "data": {
      "image/png": "[encoded data removed]",
      "text/plain": [
       "<Figure size 640x480 with 1 Axes>"
      ]
     },
     "metadata": {},
     "output_type": "display_data"
    }
   ],
   "source": [
    "plt.figure()\n",
    "plt.plot(f_scaled, wd_scaled)\n",
    "plt.show()"
   ]
  }
 ],
 "metadata": {
  "kernelspec": {
   "display_name": "Python 3.8.13 ('semantic')",
   "language": "python",
   "name": "python3"
  },
  "language_info": {
   "codemirror_mode": {
    "name": "ipython",
    "version": 3
   },
   "file_extension": ".py",
   "mimetype": "text/x-python",
   "name": "python",
   "nbconvert_exporter": "python",
   "pygments_lexer": "ipython3",
   "version": "3.8.13"
  },
  "orig_nbformat": 4,
  "vscode": {
   "interpreter": {
    "hash": "c54165d08fd550b20e5d70a45269718a12194b1a3ed2e8c4cf823acd6cf23912"
   }
  }
 },
 "nbformat": 4,
 "nbformat_minor": 2
}
