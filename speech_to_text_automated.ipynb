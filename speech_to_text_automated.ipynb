{
 "cells": [
  {
   "cell_type": "code",
   "execution_count": 1,
   "metadata": {},
   "outputs": [],
   "source": [
    "import os\n",
    "from google.cloud import speech\n",
    "import pandas as pd\n",
    "import numpy as np\n"
   ]
  },
  {
   "cell_type": "code",
   "execution_count": 2,
   "metadata": {},
   "outputs": [],
   "source": [
    "def convert(file_number):\n",
    "    \n",
    "\n",
    "    os.environ['GOOGLE_APPLICATION_CREDENTIALS'] = 'data/recordings/key.json'\n",
    "    speech_client = speech.SpeechClient()\n",
    "\n",
    "    # Example 1 & 2. Transcribe Local Media File \n",
    "    # File Size: < 10mbs, length < 1 minute\n",
    "    '''\n",
    "    config_wav = speech.RecognitionConfig(\n",
    "        sample_rate_hertz=44100,\n",
    "        enable_automatic_punctuation=True,\n",
    "        language_code='en-NG',\n",
    "        audio_channel_count=2,\n",
    "        enable_word_time_offsets=True\n",
    "    )\n",
    "    '''\n",
    "    # Example 3: Transcribing a long media file\n",
    "    media_uri = (f'gs://speech_to_text1234/recordings/{file_number}.wav')\n",
    "    long_audi_wav = speech.RecognitionAudio(uri=media_uri)\n",
    "\n",
    "    config_wav_enhanced = speech.RecognitionConfig(\n",
    "        sample_rate_hertz=44100,\n",
    "        enable_automatic_punctuation=False,\n",
    "        language_code='en-US',\n",
    "        use_enhanced=True,\n",
    "        enable_word_time_offsets=True,\n",
    "        model= \"phone_call\"\n",
    "    )\n",
    "\n",
    "    operation = speech_client.long_running_recognize(\n",
    "        config=config_wav_enhanced,\n",
    "        audio=long_audi_wav\n",
    "    )\n",
    "    response = operation.result(timeout=480)\n",
    "    Number_words = 0\n",
    "    word_list = []\n",
    "    word_start_time = []\n",
    "    word_end_time = []\n",
    "    for result in response.results:\n",
    "        alternative = result.alternatives[0]\n",
    "    Number_words = 0\n",
    "    for result in response.results:\n",
    "            alternative = result.alternatives[0]\n",
    "            #print(\"Transcript: {}\".format(alternative.transcript))\n",
    "            \n",
    "            for word_info in alternative.words:\n",
    "                word = word_info.word\n",
    "                start_time = word_info.start_time\n",
    "                end_time = word_info.end_time\n",
    "                word_list.append(word)\n",
    "                word_start_time.append(start_time.total_seconds())\n",
    "                word_end_time.append(end_time.total_seconds())\n",
    "                \"\"\"\n",
    "                print(\n",
    "                    f\"Num: {Number_words}, Word: {word}, start_time: {start_time.total_seconds()}, end_time: {end_time.total_seconds()}\"\n",
    "                )\n",
    "                \"\"\"\n",
    "                Number_words += 1\n",
    "    df = pd.DataFrame(list(zip(word_list,word_start_time,word_end_time)), columns = ['Words',\"Start_time\",\"End_time\"])\n",
    "    df.to_csv(f'data/Text/{file_number}.csv')\n",
    "\n"
   ]
  },
  {
   "cell_type": "code",
   "execution_count": 3,
   "metadata": {},
   "outputs": [],
   "source": [
    "#convert(\"010\")"
   ]
  },
  {
   "cell_type": "code",
   "execution_count": 4,
   "metadata": {},
   "outputs": [],
   "source": [
    "\n",
    "for n in range(20,24):\n",
    "    try:\n",
    "        convert((f\"0{n}\"))\n",
    "    except:\n",
    "        continue"
   ]
  }
 ],
 "metadata": {
  "kernelspec": {
   "display_name": "Python 3.9.12 ('Semantic_SBERT2')",
   "language": "python",
   "name": "python3"
  },
  "language_info": {
   "codemirror_mode": {
    "name": "ipython",
    "version": 3
   },
   "file_extension": ".py",
   "mimetype": "text/x-python",
   "name": "python",
   "nbconvert_exporter": "python",
   "pygments_lexer": "ipython3",
   "version": "3.9.12"
  },
  "orig_nbformat": 4,
  "vscode": {
   "interpreter": {
    "hash": "97aa44590fedb5598f039a6e0531b8b2c1bd721b4f28d7d2659aa58c3efe1ec9"
   }
  }
 },
 "nbformat": 4,
 "nbformat_minor": 2
}
