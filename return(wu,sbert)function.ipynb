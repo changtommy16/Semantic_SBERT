{
 "cells": [
  {
   "cell_type": "code",
   "execution_count": 3,
   "metadata": {},
   "outputs": [],
   "source": [
    "import pandas as pd\n",
    "from sklearn.metrics.pairwise import cosine_similarity\n",
    "from sentence_transformers import SentenceTransformer, util\n",
    "from torch import embedding\n",
    "from nltk.corpus import stopwords\n",
    "from nltk.corpus import wordnet \n",
    "from nltk.corpus import stopwords\n",
    "import nltk"
   ]
  },
  {
   "cell_type": "code",
   "execution_count": 4,
   "metadata": {},
   "outputs": [],
   "source": [
    "def calculate(gcs): #所以gcs要是string\n",
    "\n",
    "    \n",
    "    df = pd.read_csv(gcs) \n",
    "\n",
    "    df['start_time'] = pd.to_numeric(df['start_time'])\n",
    "    df['end_time'] = pd.to_numeric(df['end_time'])\n",
    "\n",
    "    all_sentences001 = []\n",
    "    for t in range(0,480):\n",
    "        sentences = []\n",
    "        for index, rows in df.loc[(df[\"start_time\"]>=t) & (df[\"start_time\"]<=(t+10))].iterrows():\n",
    "            sentences.append(rows[\"words\"])\n",
    "        all_sentences001.append(\" \".join(sentences))\n",
    "\n",
    "    \n",
    "    model = SentenceTransformer('all-MiniLM-L6-v2')\n",
    "    SBERT = []\n",
    "\n",
    "    def get_cosine_similarity(feature_vec_1, feature_vec_2):    \n",
    "        return cosine_similarity(feature_vec_1.reshape(1, -1), feature_vec_2.reshape(1, -1))[0][0]\n",
    "    # Two lists of sentences\n",
    "    for i in range(0,len(all_sentences001)-1):\n",
    "        #Compute embedding for both lists\n",
    "        embeddings1 = model.encode(all_sentences001[i], convert_to_tensor=True)\n",
    "        embeddings2 = model.encode(all_sentences001[i+1], convert_to_tensor=True)\n",
    "\n",
    "        #Compute cosine-similarities\n",
    "        cosine_scores = util.cos_sim(embeddings1, embeddings2)\n",
    "        # convert from PyTorch tensor to numpy array\n",
    "        SBERT.append(get_cosine_similarity(embeddings1, embeddings2))\n",
    "    ######\n",
    "    \n",
    "    all_sentences001 = []\n",
    "    stops = set(stopwords.words('english'))\n",
    "    for t in range(0,480):\n",
    "        sentences = []\n",
    "        for index, rows in df.loc[(df[\"start_time\"]>=t) & (df[\"start_time\"]<=(t+10))].iterrows():\n",
    "            if rows[\"words\"].lower() not in stops:\n",
    "                sentences.append(rows[\"words\"].lower())\n",
    "        all_sentences001.append(\" \".join(sentences))\n",
    "    \n",
    "    #nltk.download('omw-1.4')\n",
    "    #nltk.download('wordnet')\n",
    "    #nltk.download('stopwords')\n",
    "\n",
    "    stops = set(stopwords.words('english'))\n",
    "    all_sentences_wu_sum = []\n",
    "    for sentence_num in range(0,len(all_sentences001)): #現在第幾句\n",
    "        wu_pulmer_sum = 0\n",
    "        the_sentence = str(all_sentences001[sentence_num]).split()\n",
    "        #print(the_sentence)\n",
    "        timeframe_pairs_count = 0\n",
    "        for words_num in range(0, (len(the_sentence)-1)): #標定第一個字\n",
    "            if len(wordnet.synsets(the_sentence[words_num])) > 0 :\n",
    "                syns1 = wordnet.synsets(the_sentence[words_num])\n",
    "                syns1_num = len(syns1)\n",
    "            else:\n",
    "                continue\n",
    "            for words_num2 in range((words_num+1), len(the_sentence)): #標定第二個字\n",
    "                if len(wordnet.synsets(the_sentence[words_num2])) > 0 :\n",
    "                    syns2 = wordnet.synsets(the_sentence[words_num2])\n",
    "                    syns2_num = len(syns2)\n",
    "                    for i in range(0, syns1_num):\n",
    "                        for u in range(0, syns2_num):\n",
    "                            #print(the_sentence[words_num],\"的\",syns1[i],\" \", the_sentence[words_num2],\"的\",syns2[u],\" \" ,syns1[i].wup_similarity(syns2[u]))\n",
    "                            wu_pulmer_sum += syns1[i].wup_similarity(syns2[u])\n",
    "                            timeframe_pairs_count += 1\n",
    "                else:\n",
    "                    continue\n",
    "        if timeframe_pairs_count != 0:\n",
    "            all_sentences_wu_sum.append(wu_pulmer_sum/timeframe_pairs_count) #算出除以pairs數量的平均值\n",
    "        else: \n",
    "            all_sentences_wu_sum.append(wu_pulmer_sum)\n",
    "        #print(all_sentences_wu_sum)\n",
    "        wu_difference = []\n",
    "        for x in range(len(all_sentences_wu_sum)-1):\n",
    "            wu_difference.append(all_sentences_wu_sum[x+1]-all_sentences_wu_sum[x])"
   ]
  },
  {
   "cell_type": "markdown",
   "metadata": {},
   "source": [
    "參數表:\n",
    "all_sentences001: 所有的句子整合(沒有刪掉stop words)\n",
    "\n"
   ]
  },
  {
   "cell_type": "code",
   "execution_count": null,
   "metadata": {},
   "outputs": [],
   "source": []
  }
 ],
 "metadata": {
  "kernelspec": {
   "display_name": "Python 3.9.12 ('Semantic_SBERT2')",
   "language": "python",
   "name": "python3"
  },
  "language_info": {
   "codemirror_mode": {
    "name": "ipython",
    "version": 3
   },
   "file_extension": ".py",
   "mimetype": "text/x-python",
   "name": "python",
   "nbconvert_exporter": "python",
   "pygments_lexer": "ipython3",
   "version": "3.9.12"
  },
  "orig_nbformat": 4,
  "vscode": {
   "interpreter": {
    "hash": "97aa44590fedb5598f039a6e0531b8b2c1bd721b4f28d7d2659aa58c3efe1ec9"
   }
  }
 },
 "nbformat": 4,
 "nbformat_minor": 2
}
