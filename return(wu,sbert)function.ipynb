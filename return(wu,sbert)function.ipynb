{
 "cells": [
  {
   "cell_type": "code",
   "execution_count": 1,
   "metadata": {},
   "outputs": [
    {
     "name": "stderr",
     "output_type": "stream",
     "text": [
      "c:\\Users\\chang\\anaconda3\\envs\\Semantic_SBERT2\\lib\\site-packages\\tqdm\\auto.py:22: TqdmWarning: IProgress not found. Please update jupyter and ipywidgets. See https://ipywidgets.readthedocs.io/en/stable/user_install.html\n",
      "  from .autonotebook import tqdm as notebook_tqdm\n"
     ]
    }
   ],
   "source": [
    "import pandas as pd\n",
    "from sklearn.metrics.pairwise import cosine_similarity\n",
    "from sentence_transformers import SentenceTransformer, util\n",
    "from torch import embedding\n",
    "from nltk.corpus import stopwords\n",
    "from nltk.corpus import wordnet \n",
    "from nltk.corpus import stopwords\n",
    "import nltk\n",
    "import numpy as np"
   ]
  },
  {
   "cell_type": "code",
   "execution_count": 2,
   "metadata": {},
   "outputs": [],
   "source": [
    "def calculate(gcs): #所以gcs要是string\n",
    "\n",
    "    \n",
    "    df = pd.read_csv(gcs) \n",
    "\n",
    "    df['Start_time'] = pd.to_numeric(df['Start_time'])\n",
    "    #df['end_time'] = pd.to_numeric(df['end_time'])\n",
    "    global all_sentences001\n",
    "    all_sentences001 = []\n",
    "    for t in range(0,480):\n",
    "        sentences = []\n",
    "        for index, rows in df.loc[(df[\"Start_time\"]>=t) & (df[\"Start_time\"]<=(t+10))].iterrows():\n",
    "            sentences.append(rows[\"Words\"])\n",
    "        all_sentences001.append(\" \".join(sentences))\n",
    "\n",
    "    \n",
    "    model = SentenceTransformer('all-MiniLM-L6-v2')\n",
    "    global SBERT \n",
    "    SBERT= []\n",
    "\n",
    "    def get_cosine_similarity(feature_vec_1, feature_vec_2):    \n",
    "        return cosine_similarity(feature_vec_1.reshape(1, -1), feature_vec_2.reshape(1, -1))[0][0]\n",
    "    # Two lists of sentences\n",
    "    for i in range(0,len(all_sentences001)-1):\n",
    "        #Compute embedding for both lists\n",
    "        embeddings1 = model.encode(all_sentences001[i], convert_to_tensor=True)\n",
    "        embeddings2 = model.encode(all_sentences001[i+1], convert_to_tensor=True)\n",
    "\n",
    "        #Compute cosine-similarities\n",
    "        cosine_scores = util.cos_sim(embeddings1, embeddings2)\n",
    "        # convert from PyTorch tensor to numpy array\n",
    "        SBERT.append(get_cosine_similarity(embeddings1, embeddings2))\n",
    "    ######\n",
    "    \n",
    "    all_sentences001 = []\n",
    "    stops = set(stopwords.words('english'))\n",
    "    for t in range(0,480):\n",
    "        sentences = []\n",
    "        for index, rows in df.loc[(df[\"Start_time\"]>=t) & (df[\"Start_time\"]<=(t+10))].iterrows():\n",
    "            if rows[\"Words\"].lower() not in stops:\n",
    "                sentences.append(rows[\"Words\"].lower())\n",
    "        all_sentences001.append(\" \".join(sentences))\n",
    "    \n",
    "    #nltk.download('omw-1.4')\n",
    "    #nltk.download('wordnet')\n",
    "    #nltk.download('stopwords')\n",
    "    global pair_counts\n",
    "    pair_counts = []\n",
    "    stops = set(stopwords.words('english'))\n",
    "    global all_sentences_wu_sum\n",
    "    all_sentences_wu_sum = []\n",
    "    global all_sentences_wu_sum_divided\n",
    "    all_sentences_wu_sum_divided = []\n",
    "    for sentence_num in range(0,len(all_sentences001)): #現在第幾句\n",
    "        wu_pulmer_sum = 0\n",
    "        the_sentence = str(all_sentences001[sentence_num]).split()\n",
    "        #print(the_sentence)\n",
    "        timeframe_pairs_count = 0\n",
    "        for words_num in range(0, (len(the_sentence)-1)): #標定第一個字\n",
    "            if len(wordnet.synsets(the_sentence[words_num])) > 0 :\n",
    "                syns1 = wordnet.synsets(the_sentence[words_num])\n",
    "                syns1_num = len(syns1)\n",
    "            else:\n",
    "                continue\n",
    "            for words_num2 in range((words_num+1), len(the_sentence)): #標定第二個字\n",
    "                if len(wordnet.synsets(the_sentence[words_num2])) > 0 :\n",
    "                    syns2 = wordnet.synsets(the_sentence[words_num2])\n",
    "                    syns2_num = len(syns2)\n",
    "                    for i in range(0, syns1_num):\n",
    "                        for u in range(0, syns2_num):\n",
    "                            #print(the_sentence[words_num],\"的\",syns1[i],\" \", the_sentence[words_num2],\"的\",syns2[u],\" \" ,syns1[i].wup_similarity(syns2[u]))\n",
    "                            wu_pulmer_sum += syns1[i].wup_similarity(syns2[u])\n",
    "                            timeframe_pairs_count += 1\n",
    "                else:\n",
    "                    continue\n",
    "        if timeframe_pairs_count != 0:\n",
    "            all_sentences_wu_sum_divided.append(wu_pulmer_sum/timeframe_pairs_count) #算出除以pairs數量的平均值\n",
    "        else: \n",
    "            all_sentences_wu_sum_divided.append(wu_pulmer_sum)\n",
    "        all_sentences_wu_sum.append(wu_pulmer_sum)\n",
    "        pair_counts.append(timeframe_pairs_count)\n",
    "        #print(all_sentences_wu_sum)\n",
    "        global wu_difference\n",
    "        wu_difference = []\n",
    "        for x in range(len(all_sentences_wu_sum)-1):\n",
    "            wu_difference.append(all_sentences_wu_sum[x+1]-all_sentences_wu_sum[x])\n",
    "\n",
    "        from sklearn import preprocessing\n",
    "    \n",
    "    \"\"\" # for normalization\n",
    "    wu_difference = np.array(wu_difference)\n",
    "    SBERT = np.array(SBERT)\n",
    "    #normalized_SBERT = preprocessing.normalize([SBERT])\n",
    "    #normalized_wu_difference = preprocessing.normalize([wu_difference])\n",
    "\n",
    "\n",
    "    min_max_scaler = preprocessing.MinMaxScaler()\n",
    "    SBERT = np.reshape(SBERT,(479,1))\n",
    "    wu_difference = np.reshape(wu_difference,(479,1))\n",
    "    global normalized_SBERT\n",
    "    global normalized_wu_difference\n",
    "    normalized_SBERT  = min_max_scaler.fit_transform(SBERT)\n",
    "    normalized_wu_difference  = min_max_scaler.fit_transform(wu_difference)\n",
    "    \"\"\""
   ]
  },
  {
   "cell_type": "markdown",
   "metadata": {},
   "source": [
    "參數表:<br>\n",
    "all_sentences001: 所有的句子整合(沒有刪掉stop words)<br>\n",
    "SBERT: 具有全部SBERT similarity的list<br>\n",
    "all_sentences_wu_sum: 每句話的wu-pulmer similarity算出來的平均的list<br>\n",
    "wu_difference: 兩句兩句減掉wu similarity的list<br>\n",
    "normalized_SBERT: 就是表準化過後的SBERT list<br>\n",
    "normalized_wu_difference: 標準化過後的wu_pulmer difference<br>\n",
    "這邊注意wu-pulmer的different based應該不能這樣算"
   ]
  },
  {
   "cell_type": "code",
   "execution_count": 3,
   "metadata": {},
   "outputs": [
    {
     "data": {
      "text/plain": [
       "'\\ni = 6\\ncalculate(f\"data/Text/00{i}(done).csv\")\\nresults_csv = pd.DataFrame(list(zip(SBERT,all_sentences_wu_sum,all_sentences_wu_sum_divided,pair_counts)), columns = [\\'SBERT\\',\"Wu-Pulmer\",\"Wu-Pulmer_divided\",\"pair_counts\"])\\nresults_csv.to_csv(f\\'data/Text/00{i}(results).csv\\')\\n'"
      ]
     },
     "execution_count": 3,
     "metadata": {},
     "output_type": "execute_result"
    }
   ],
   "source": [
    "'''\n",
    "i = 6\n",
    "calculate(f\"data/Text/00{i}(done).csv\")\n",
    "results_csv = pd.DataFrame(list(zip(SBERT,all_sentences_wu_sum,all_sentences_wu_sum_divided,pair_counts)), columns = ['SBERT',\"Wu-Pulmer\",\"Wu-Pulmer_divided\",\"pair_counts\"])\n",
    "results_csv.to_csv(f'data/Text/00{i}(results).csv')\n",
    "'''"
   ]
  },
  {
   "cell_type": "code",
   "execution_count": 4,
   "metadata": {},
   "outputs": [
    {
     "name": "stdout",
     "output_type": "stream",
     "text": [
      "error: 9\n",
      "error: 10\n",
      "error: 12\n",
      "error: 16\n",
      "error: 18\n",
      "error: 22\n"
     ]
    }
   ],
   "source": [
    "for i in range(7,24):\n",
    "    if i<10:\n",
    "        try:\n",
    "            calculate(f\"data/Text/00{i}(done).csv\")\n",
    "            results_csv = pd.DataFrame(list(zip(SBERT,all_sentences_wu_sum,all_sentences_wu_sum_divided,pair_counts)), columns = ['SBERT',\"Wu-Pulmer\",\"Wu-Pulmer_divided\",\"pair_counts\"])\n",
    "            results_csv.to_csv(f'data/Text/00{i}(results).csv')\n",
    "        except:\n",
    "            print(\"error:\", i)\n",
    "            continue\n",
    "    else:\n",
    "        try:\n",
    "            calculate(f\"data/Text/0{i}(done).csv\")\n",
    "            results_csv = pd.DataFrame(list(zip(SBERT,all_sentences_wu_sum,all_sentences_wu_sum_divided,pair_counts)), columns = ['SBERT',\"Wu-Pulmer\",\"Wu-Pulmer_divided\",\"pair_counts\"])\n",
    "            results_csv.to_csv(f'data/Text/0{i}(results).csv')\n",
    "        except:\n",
    "            print(\"error:\", i)\n",
    "            continue"
   ]
  },
  {
   "cell_type": "code",
   "execution_count": 5,
   "metadata": {},
   "outputs": [
    {
     "name": "stdout",
     "output_type": "stream",
     "text": [
      "[0.544697, 0.8420632, 0.97001255, 0.8372743, 0.831531, 0.95109665, 0.887207, 0.81038785, 0.8672111, 0.98093855, 0.7542483, 1.0, 0.9930301, 0.665328, 0.99638027, 0.8780438, 0.8462553, 0.5799331, 0.98352784, 0.888752]\n"
     ]
    }
   ],
   "source": [
    "print(SBERT[0:20])"
   ]
  },
  {
   "cell_type": "code",
   "execution_count": 6,
   "metadata": {},
   "outputs": [
    {
     "name": "stdout",
     "output_type": "stream",
     "text": [
      "     SBERT  Wu-Pulmer  Wu-Pulmer_divided  pair_counts\n",
      "474    1.0        0.0                0.0            0\n",
      "475    1.0        0.0                0.0            0\n",
      "476    1.0        0.0                0.0            0\n",
      "477    1.0        0.0                0.0            0\n",
      "478    1.0        0.0                0.0            0\n"
     ]
    }
   ],
   "source": [
    "results_csv = pd.DataFrame(list(zip(SBERT,all_sentences_wu_sum,all_sentences_wu_sum_divided,pair_counts)), columns = ['SBERT',\"Wu-Pulmer\",\"Wu-Pulmer_divided\",\"pair_counts\"])\n",
    "print(results_csv.tail(5))"
   ]
  }
 ],
 "metadata": {
  "kernelspec": {
   "display_name": "Python 3.9.12 ('Semantic_SBERT2')",
   "language": "python",
   "name": "python3"
  },
  "language_info": {
   "codemirror_mode": {
    "name": "ipython",
    "version": 3
   },
   "file_extension": ".py",
   "mimetype": "text/x-python",
   "name": "python",
   "nbconvert_exporter": "python",
   "pygments_lexer": "ipython3",
   "version": "3.9.12"
  },
  "orig_nbformat": 4,
  "vscode": {
   "interpreter": {
    "hash": "97aa44590fedb5598f039a6e0531b8b2c1bd721b4f28d7d2659aa58c3efe1ec9"
   }
  }
 },
 "nbformat": 4,
 "nbformat_minor": 2
}
