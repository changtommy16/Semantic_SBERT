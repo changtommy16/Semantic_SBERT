{
 "cells": [
  {
   "cell_type": "code",
   "execution_count": 4,
   "metadata": {},
   "outputs": [
    {
     "name": "stderr",
     "output_type": "stream",
     "text": [
      "c:\\Users\\chang\\anaconda3\\envs\\semantic\\lib\\site-packages\\tqdm\\auto.py:22: TqdmWarning: IProgress not found. Please update jupyter and ipywidgets. See https://ipywidgets.readthedocs.io/en/stable/user_install.html\n",
      "  from .autonotebook import tqdm as notebook_tqdm\n"
     ]
    }
   ],
   "source": [
    "import pandas as pd\n",
    "from sklearn.metrics.pairwise import cosine_similarity\n",
    "from sentence_transformers import SentenceTransformer, util\n",
    "from torch import embedding\n",
    "from nltk.corpus import stopwords\n",
    "from nltk.corpus import wordnet \n",
    "from nltk.corpus import stopwords\n",
    "import nltk\n",
    "import numpy as np\n",
    "from sklearn import preprocessing"
   ]
  },
  {
   "cell_type": "code",
   "execution_count": 12,
   "metadata": {},
   "outputs": [],
   "source": [
    "#subject6 的最明顯波長是68.4813s\n",
    "#space = 17.12 #sample step size\n",
    "#timeframe = 17.12\n",
    "global q\n",
    "q=0"
   ]
  },
  {
   "cell_type": "code",
   "execution_count": 13,
   "metadata": {},
   "outputs": [],
   "source": [
    "from tracemalloc import start\n",
    "\n",
    "\n",
    "def calculate(gcs,destination,timeframe,space,start_time=0): #所以gcs要是string\n",
    "\n",
    "    \n",
    "    df = pd.read_csv(gcs) \n",
    "\n",
    "    df['Start_time'] = pd.to_numeric(df['Start_time'])\n",
    "    #df['end_time'] = pd.to_numeric(df['end_time'])\n",
    "    global all_sentences001\n",
    "    all_sentences001 = []\n",
    "    t=start_time\n",
    "    while t<480:\n",
    "        sentences = []\n",
    "        for index, rows in df.loc[(df[\"Start_time\"]>=t) & (df[\"Start_time\"]<=(t+timeframe))].iterrows():\n",
    "            sentences.append(rows[\"Words\"])\n",
    "        all_sentences001.append(\" \".join(sentences))\n",
    "        t+=space\n",
    "\n",
    "    \n",
    "    model = SentenceTransformer('all-MiniLM-L6-v2')\n",
    "    global SBERT \n",
    "    SBERT= []\n",
    "\n",
    "    def get_cosine_similarity(feature_vec_1, feature_vec_2):    \n",
    "        return cosine_similarity(feature_vec_1.reshape(1, -1), feature_vec_2.reshape(1, -1))[0][0]\n",
    "    # Two lists of sentences\n",
    "    for i in range(0,len(all_sentences001)-1):\n",
    "        #Compute embedding for both lists\n",
    "        embeddings1 = model.encode(all_sentences001[i], convert_to_tensor=True)\n",
    "        #print(all_sentences001[i])\n",
    "        embeddings2 = model.encode(all_sentences001[i+1], convert_to_tensor=True)\n",
    "        #print(all_sentences001[i+1])\n",
    "        #Compute cosine-similarities\n",
    "        cosine_scores = util.cos_sim(embeddings1, embeddings2)\n",
    "        #print(cosine_scores)\n",
    "        # convert from PyTorch tensor to numpy array\n",
    "        SBERT.append(get_cosine_similarity(embeddings1, embeddings2))\n",
    "    ######\n",
    "    \n",
    "    all_sentences001 = []\n",
    "    stops = set(stopwords.words('english'))\n",
    "    t=start_time\n",
    "    while t <480:\n",
    "        sentences = []\n",
    "        for index, rows in df.loc[(df[\"Start_time\"]>=t) & (df[\"Start_time\"]<=(t+timeframe))].iterrows():\n",
    "            if rows[\"Words\"].lower() not in stops:\n",
    "                sentences.append(rows[\"Words\"].lower())\n",
    "                #print(rows[\"Words\"])\n",
    "        all_sentences001.append(\" \".join(sentences))\n",
    "        #print(t)\n",
    "        t += space \n",
    "    ''' 舊的sample step\n",
    "    for t in range(0,480,0.5):\n",
    "        sentences = []\n",
    "        for index, rows in df.loc[(df[\"Start_time\"]>=t) & (df[\"Start_time\"]<=(t+10))].iterrows():\n",
    "            if rows[\"Words\"].lower() not in stops:\n",
    "                sentences.append(rows[\"Words\"].lower())\n",
    "        all_sentences001.append(\" \".join(sentences))\n",
    "    '''    \n",
    "    #nltk.download('omw-1.4')\n",
    "    #nltk.download('wordnet')\n",
    "    #nltk.download('stopwords')\n",
    "    global pair_counts\n",
    "    pair_counts = []\n",
    "    stops = set(stopwords.words('english'))\n",
    "    global all_sentences_wu_sum\n",
    "    all_sentences_wu_sum = []\n",
    "    global all_sentences_wu_sum_divided\n",
    "    all_sentences_wu_sum_divided = []\n",
    "    for sentence_num in range(0,len(all_sentences001)): #現在第幾句\n",
    "        wu_pulmer_sum = 0\n",
    "        the_sentence = str(all_sentences001[sentence_num]).split()\n",
    "        #print(the_sentence)\n",
    "        timeframe_pairs_count = 0\n",
    "        for words_num in range(0, (len(the_sentence)-1)): #標定第一個字\n",
    "            if len(wordnet.synsets(the_sentence[words_num])) > 0 :\n",
    "                syns1 = wordnet.synsets(the_sentence[words_num])\n",
    "                syns1_num = len(syns1)\n",
    "            else:\n",
    "                continue\n",
    "            for words_num2 in range((words_num+1), len(the_sentence)): #標定第二個字\n",
    "                if len(wordnet.synsets(the_sentence[words_num2])) > 0 :\n",
    "                    syns2 = wordnet.synsets(the_sentence[words_num2])\n",
    "                    syns2_num = len(syns2)\n",
    "                    for i in range(0, syns1_num):\n",
    "                        for u in range(0, syns2_num):\n",
    "                            #print(the_sentence[words_num],\"的\",syns1[i],\" \", the_sentence[words_num2],\"的\",syns2[u],\" \" ,syns1[i].wup_similarity(syns2[u]))\n",
    "                            wu_pulmer_sum += syns1[i].wup_similarity(syns2[u])\n",
    "                            timeframe_pairs_count += 1\n",
    "                else:\n",
    "                    continue\n",
    "        if timeframe_pairs_count != 0:\n",
    "            all_sentences_wu_sum_divided.append(wu_pulmer_sum/timeframe_pairs_count) #算出除以pairs數量的平均值\n",
    "        else: \n",
    "            all_sentences_wu_sum_divided.append(wu_pulmer_sum)\n",
    "        all_sentences_wu_sum.append(wu_pulmer_sum)\n",
    "        pair_counts.append(timeframe_pairs_count)\n",
    "        #print(all_sentences_wu_sum)\n",
    "        global wu_difference\n",
    "        wu_difference = []\n",
    "        for x in range(len(all_sentences_wu_sum)-1):\n",
    "            wu_difference.append(all_sentences_wu_sum[x+1]-all_sentences_wu_sum[x])\n",
    "\n",
    "    from sklearn import preprocessing\n",
    "\n",
    "    results_csv = pd.DataFrame(list(zip(SBERT,all_sentences_wu_sum,all_sentences_wu_sum_divided,pair_counts)), columns = ['SBERT',\"Wu-Pulmer\",\"Wu-Pulmer_divided\",\"pair_counts\"])\n",
    "    if q<10:\n",
    "        results_csv.to_csv(f\"data/Text/00{q}({destination}).csv\")\n",
    "    else:\n",
    "        results_csv.to_csv(f\"data/Text/0{q}({destination}).csv\")\n",
    "    \"\"\" # for normalization\n",
    "    wu_difference = np.array(wu_difference)\n",
    "    SBERT = np.array(SBERT)\n",
    "    #normalized_SBERT = preprocessing.normalize([SBERT])\n",
    "    #normalized_wu_difference = preprocessing.normalize([wu_difference])\n",
    "\n",
    "\n",
    "    min_max_scaler = preprocessing.MinMaxScaler()\n",
    "    SBERT = np.reshape(SBERT,(479,1))\n",
    "    wu_difference = np.reshape(wu_difference,(479,1))\n",
    "    global normalized_SBERT\n",
    "    global normalized_wu_difference\n",
    "    normalized_SBERT  = min_max_scaler.fit_transform(SBERT)\n",
    "    normalized_wu_difference  = min_max_scaler.fit_transform(wu_difference)\n",
    "    \"\"\""
   ]
  },
  {
   "cell_type": "markdown",
   "metadata": {},
   "source": [
    "參數表:<br>\n",
    "all_sentences001: 所有的句子整合(沒有刪掉stop words)<br>\n",
    "SBERT: 具有全部SBERT similarity的list<br>\n",
    "all_sentences_wu_sum: 每句話的wu-pulmer similarity算出來的平均的list<br>\n",
    "wu_difference: 兩句兩句減掉wu similarity的list<br>\n",
    "normalized_SBERT: 就是表準化過後的SBERT list<br>\n",
    "normalized_wu_difference: 標準化過後的wu_pulmer difference<br>\n",
    "這邊注意wu-pulmer的different based應該不能這樣算"
   ]
  },
  {
   "cell_type": "code",
   "execution_count": 14,
   "metadata": {},
   "outputs": [],
   "source": [
    "#calculate(f\"data/Text/001.csv\",\"results\",10,1)"
   ]
  },
  {
   "cell_type": "markdown",
   "metadata": {},
   "source": [
    "抓週期"
   ]
  },
  {
   "cell_type": "code",
   "execution_count": null,
   "metadata": {},
   "outputs": [],
   "source": [
    "def read_period(gcs): #所以gcs要是string\n",
    "    df = pd.read_csv(gcs) \n",
    "    global period\n",
    "    period = df[\"period(Wu)\"][2] #現在是抓wu-pulmer divided 的週期\n",
    "    #print(period)\n",
    "    "
   ]
  },
  {
   "cell_type": "code",
   "execution_count": null,
   "metadata": {},
   "outputs": [],
   "source": [
    "'''\n",
    "x=11\n",
    "q=x\n",
    "freq = input(\"enter freq: \")\n",
    "start = input(\"enter start time: \")\n",
    "endt= input(\"enter end time:\")\n",
    "read_period(f\"data/peaks_of_PSD/0{x}(peaks).csv\")\n",
    "cut_timeoffset = int(start)\n",
    "cut_timeend = int(endt)\n",
    "for t in range(cut_timeoffset,cut_timeoffset+int(period/2)):\n",
    "    print(\"start_time =\", t)\n",
    "    calculate(f\"data/Text/0{x}(done).csv\",f\"halfpeakstep_phasef{freq}_{start}_{endt}_{t-cut_timeoffset}\",period/2,period/2,t,end = cut_timeend) #,\n",
    "'''"
   ]
  },
  {
   "cell_type": "code",
   "execution_count": null,
   "metadata": {},
   "outputs": [],
   "source": [
    "'''\n",
    "start_subject = int(input(\"start_subject = \"))\n",
    "end_subject = int(input(\"end_subject = \"))\n",
    "for x in range(start_subject,end_subject+1):\n",
    "    if x<10:\n",
    "        try: \n",
    "            q=x\n",
    "            read_period(f\"data/peaks_of_PSD/00{x}(peaks).csv\")\n",
    "            for t in range(0,int(period/2)):\n",
    "                print(\"start_time =\", t)\n",
    "                calculate(f\"data/Text/00{x}(done).csv\",f\"halfpeakstep_phase0f{t}\",period/2,period/2,t)\n",
    "        except:\n",
    "            print(\"error:\",x)\n",
    "            continue\n",
    "        \n",
    "    else:\n",
    "        q=x\n",
    "        try:\n",
    "            read_period(f\"data/peaks_of_PSD/0{x}(peaks).csv\")\n",
    "            for t in range(0,int(period/2)):\n",
    "                print(\"start_time =\", t)\n",
    "                calculate(f\"data/Text/0{x}(done).csv\",f\"halfpeakstep_phase0f{t}\",period/2,period/2,t)\n",
    "        except:\n",
    "            print(\"error:\",x)\n",
    "            continue\n",
    "'''"
   ]
  },
  {
   "cell_type": "code",
   "execution_count": 15,
   "metadata": {},
   "outputs": [],
   "source": [
    "'''\n",
    "start_subject = int(input(\"start_subject = \"))\n",
    "end_subject = int(input(\"end_subject = \"))\n",
    "for x in range(start_subject,end_subject+1):\n",
    "    if x<10:\n",
    "        try: \n",
    "            q=x\n",
    "            read_period(f\"data/peaks_of_PSD/00{x}(peaks).csv\")\n",
    "            calculate(f\"data/Text/00{x}(done).csv\",\"nonpeakstep\",23,23)\n",
    "        except:\n",
    "            print(\"error:\",x)\n",
    "            continue\n",
    "        \n",
    "    else:\n",
    "        q=x\n",
    "        try:\n",
    "            read_period(f\"data/peaks_of_PSD/0{x}(peaks).csv\")\n",
    "            calculate(f\"data/Text/0{x}(done).csv\",\"nonpeakstep\",23,23)\n",
    "        except:\n",
    "            print(\"error:\",x)\n",
    "            continue\n",
    "'''"
   ]
  },
  {
   "cell_type": "code",
   "execution_count": 16,
   "metadata": {},
   "outputs": [
    {
     "name": "stdout",
     "output_type": "stream",
     "text": [
      "480\n",
      "479\n"
     ]
    }
   ],
   "source": [
    "print(len(all_sentences001))\n",
    "print(len(SBERT))"
   ]
  },
  {
   "cell_type": "code",
   "execution_count": 17,
   "metadata": {},
   "outputs": [
    {
     "data": {
      "text/plain": [
       "'\\nfor i in range(18,24):\\n    if i<10:\\n        try:\\n            calculate(f\"data/Text/00{i}(done).csv\")\\n            results_csv = pd.DataFrame(list(zip(SBERT,all_sentences_wu_sum,all_sentences_wu_sum_divided,pair_counts)), columns = [\\'SBERT\\',\"Wu-Pulmer\",\"Wu-Pulmer_divided\",\"pair_counts\"])\\n            results_csv.to_csv(f\\'data/Text/00{i}(results).csv\\')\\n        except:\\n            print(\"error:\", i)\\n            continue\\n    else:\\n        try:\\n            calculate(f\"data/Text/0{i}(done).csv\")\\n            results_csv = pd.DataFrame(list(zip(SBERT,all_sentences_wu_sum,all_sentences_wu_sum_divided,pair_counts)), columns = [\\'SBERT\\',\"Wu-Pulmer\",\"Wu-Pulmer_divided\",\"pair_counts\"])\\n            results_csv.to_csv(f\\'data/Text/0{i}(results).csv\\')\\n        except:\\n            print(\"error:\", i)\\n            continue\\n'"
      ]
     },
     "execution_count": 17,
     "metadata": {},
     "output_type": "execute_result"
    }
   ],
   "source": [
    "'''\n",
    "for i in range(18,24):\n",
    "    if i<10:\n",
    "        try:\n",
    "            calculate(f\"data/Text/00{i}(done).csv\")\n",
    "            results_csv = pd.DataFrame(list(zip(SBERT,all_sentences_wu_sum,all_sentences_wu_sum_divided,pair_counts)), columns = ['SBERT',\"Wu-Pulmer\",\"Wu-Pulmer_divided\",\"pair_counts\"])\n",
    "            results_csv.to_csv(f'data/Text/00{i}(results).csv')\n",
    "        except:\n",
    "            print(\"error:\", i)\n",
    "            continue\n",
    "    else:\n",
    "        try:\n",
    "            calculate(f\"data/Text/0{i}(done).csv\")\n",
    "            results_csv = pd.DataFrame(list(zip(SBERT,all_sentences_wu_sum,all_sentences_wu_sum_divided,pair_counts)), columns = ['SBERT',\"Wu-Pulmer\",\"Wu-Pulmer_divided\",\"pair_counts\"])\n",
    "            results_csv.to_csv(f'data/Text/0{i}(results).csv')\n",
    "        except:\n",
    "            print(\"error:\", i)\n",
    "            continue\n",
    "'''"
   ]
  }
 ],
 "metadata": {
  "interpreter": {
   "hash": "c54165d08fd550b20e5d70a45269718a12194b1a3ed2e8c4cf823acd6cf23912"
  },
  "kernelspec": {
   "display_name": "Python 3.8.13 ('semantic')",
   "language": "python",
   "name": "python3"
  },
  "language_info": {
   "codemirror_mode": {
    "name": "ipython",
    "version": 3
   },
   "file_extension": ".py",
   "mimetype": "text/x-python",
   "name": "python",
   "nbconvert_exporter": "python",
   "pygments_lexer": "ipython3",
   "version": "3.8.13"
  },
  "orig_nbformat": 4,
  "vscode": {
   "interpreter": {
    "hash": "97aa44590fedb5598f039a6e0531b8b2c1bd721b4f28d7d2659aa58c3efe1ec9"
   }
  }
 },
 "nbformat": 4,
 "nbformat_minor": 2
}
