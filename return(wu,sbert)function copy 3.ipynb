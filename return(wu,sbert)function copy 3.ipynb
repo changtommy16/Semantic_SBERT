{
 "cells": [
  {
   "cell_type": "code",
   "execution_count": 1,
   "metadata": {},
   "outputs": [
    {
     "name": "stderr",
     "output_type": "stream",
     "text": [
      "c:\\Users\\chang\\anaconda3\\envs\\semantic\\lib\\site-packages\\tqdm\\auto.py:22: TqdmWarning: IProgress not found. Please update jupyter and ipywidgets. See https://ipywidgets.readthedocs.io/en/stable/user_install.html\n",
      "  from .autonotebook import tqdm as notebook_tqdm\n"
     ]
    }
   ],
   "source": [
    "import pandas as pd\n",
    "from sklearn.metrics.pairwise import cosine_similarity\n",
    "from sentence_transformers import SentenceTransformer, util\n",
    "from torch import embedding\n",
    "from nltk.corpus import stopwords\n",
    "from nltk.corpus import wordnet \n",
    "import nltk\n",
    "import numpy as np\n",
    "from sklearn import preprocessing\n",
    "import math"
   ]
  },
  {
   "cell_type": "code",
   "execution_count": 2,
   "metadata": {},
   "outputs": [],
   "source": [
    "#subject6 的最明顯波長是68.4813s\n",
    "#space = 17.12 #sample step size\n",
    "#timeframe = 17.12\n",
    "global q\n",
    "q=0"
   ]
  },
  {
   "cell_type": "code",
   "execution_count": 3,
   "metadata": {},
   "outputs": [
    {
     "name": "stderr",
     "output_type": "stream",
     "text": [
      "[nltk_data] Downloading package omw-1.4 to\n",
      "[nltk_data]     C:\\Users\\chang\\AppData\\Roaming\\nltk_data...\n",
      "[nltk_data]   Package omw-1.4 is already up-to-date!\n"
     ]
    },
    {
     "data": {
      "text/plain": [
       "True"
      ]
     },
     "execution_count": 3,
     "metadata": {},
     "output_type": "execute_result"
    }
   ],
   "source": [
    "import nltk\n",
    "nltk.download('omw-1.4')"
   ]
  },
  {
   "cell_type": "code",
   "execution_count": 4,
   "metadata": {},
   "outputs": [],
   "source": [
    "class Subject():\n",
    "    def __init__(self,subject):\n",
    "        self.subject = subject"
   ]
  },
  {
   "cell_type": "markdown",
   "metadata": {},
   "source": [
    "# 算所有的值"
   ]
  },
  {
   "cell_type": "code",
   "execution_count": 5,
   "metadata": {},
   "outputs": [],
   "source": [
    "from tracemalloc import start\n",
    "\n",
    "\n",
    "def calculate(gcs,destination,timeframe,space,start_time=0,end=480): #所以gcs要是string\n",
    "\n",
    "    \n",
    "    df = pd.read_csv(gcs) \n",
    "\n",
    "    df['Start_time'] = pd.to_numeric(df['Start_time'])\n",
    "    #df['end_time'] = pd.to_numeric(df['end_time'])\n",
    "    global all_sentences001\n",
    "    all_sentences001 = []\n",
    "    t=start_time\n",
    "    \n",
    "    while t<end:\n",
    "        sentences = []\n",
    "        for index, rows in df.loc[(df[\"Start_time\"]>=t) & (df[\"Start_time\"]<=(t+timeframe))].iterrows():\n",
    "            sentences.append(rows[\"Words\"])\n",
    "        all_sentences001.append(\" \".join(sentences))\n",
    "        t+=space\n",
    "\n",
    "    \n",
    "    model = SentenceTransformer('all-MiniLM-L6-v2')\n",
    "    global SBERT \n",
    "    SBERT= []\n",
    "\n",
    "    def get_cosine_similarity(feature_vec_1, feature_vec_2):    \n",
    "        return cosine_similarity(feature_vec_1.reshape(1, -1), feature_vec_2.reshape(1, -1))[0][0]\n",
    "    # Two lists of sentences\n",
    "    for i in range(0,len(all_sentences001)-1):\n",
    "        #Compute embedding for both lists\n",
    "        embeddings1 = model.encode(all_sentences001[i], convert_to_tensor=True)\n",
    "        #print(all_sentences001[i])\n",
    "        embeddings2 = model.encode(all_sentences001[i+1], convert_to_tensor=True)\n",
    "        #print(all_sentences001[i+1])\n",
    "        #Compute cosine-similarities\n",
    "        cosine_scores = util.cos_sim(embeddings1, embeddings2)\n",
    "        #print(cosine_scores)\n",
    "        # convert from PyTorch tensor to numpy array\n",
    "        SBERT.append(get_cosine_similarity(embeddings1, embeddings2))\n",
    "    ######\n",
    "        '''print(\"timeframe: \",i,\":\",i+10,\"\\n\")\n",
    "        print(get_cosine_similarity(embeddings1, embeddings2),\"\\n\")\n",
    "        print(all_sentences001[i],\"\\n\")\n",
    "        print(all_sentences001[i+1],\"\\n\")\n",
    "        print()'''\n",
    "\n",
    "    \n",
    "    all_sentences001 = []\n",
    "    stops = set(stopwords.words('english'))\n",
    "    t=start_time\n",
    "    while t <end:\n",
    "        sentences = []\n",
    "        for index, rows in df.loc[(df[\"Start_time\"]>=t) & (df[\"Start_time\"]<=(t+timeframe))].iterrows():\n",
    "            if rows[\"Words\"].lower() not in stops:\n",
    "                sentences.append(rows[\"Words\"].lower())\n",
    "                #print(rows[\"Words\"])\n",
    "        all_sentences001.append(\" \".join(sentences))\n",
    "        #print(t)\n",
    "        t += space \n",
    "    ''' 舊的sample step\n",
    "    for t in range(0,480,0.5):\n",
    "        sentences = []\n",
    "        for index, rows in df.loc[(df[\"Start_time\"]>=t) & (df[\"Start_time\"]<=(t+10))].iterrows():\n",
    "            if rows[\"Words\"].lower() not in stops:\n",
    "                sentences.append(rows[\"Words\"].lower())\n",
    "        all_sentences001.append(\" \".join(sentences))\n",
    "    '''    \n",
    "    #nltk.download('omw-1.4')\n",
    "    #nltk.download('wordnet')\n",
    "    #nltk.download('stopwords')\n",
    "    global ancestor_depth_list\n",
    "    ancestor_depth_list = []\n",
    "    global ancestors_depth\n",
    "    ancestors_depth = []\n",
    "    global pair_counts\n",
    "    pair_counts = []\n",
    "    stops = set(stopwords.words('english'))\n",
    "    global all_sentences_wu_sum\n",
    "    all_sentences_wu_sum = []\n",
    "    global all_sentences_wu_sum_divided\n",
    "    all_sentences_wu_sum_divided = []\n",
    "    Timeframe_percentage = []  #每個timeframe的valid pair percentage的list\n",
    "    for sentence_num in range(0,len(all_sentences001)): #現在第幾句\n",
    "        wu_pulmer_sum = 0\n",
    "        validPairs = 0\n",
    "        the_sentence = str(all_sentences001[sentence_num]).split()\n",
    "        #print(the_sentence)\n",
    "        timeframe_pairs_count = 0\n",
    "        localMin_depth = 0\n",
    "        for words_num in range(0, (len(the_sentence)-1)): #標定第一個字\n",
    "            if len(wordnet.synsets(the_sentence[words_num])) > 0 :\n",
    "                syns1 = wordnet.synsets(the_sentence[words_num])\n",
    "                syns1_num = len(syns1)\n",
    "            else:\n",
    "                continue\n",
    "            for words_num2 in range((words_num+1), len(the_sentence)): #標定第二個字\n",
    "                \n",
    "                hasAncestors = True\n",
    "                if len(wordnet.synsets(the_sentence[words_num2])) > 0 :\n",
    "                    syns2 = wordnet.synsets(the_sentence[words_num2])\n",
    "                    syns2_num = len(syns2)\n",
    "                    for i in range(0, syns1_num):  # 標定第一個synset\n",
    "                        for u in range(0, syns2_num): #標定第二個synset\n",
    "                            #print(the_sentence[words_num],\"的\",syns1[i],\" \", the_sentence[words_num2],\"的\",syns2[u],\" \" ,syns1[i].wup_similarity(syns2[u]))\n",
    "                            wu_pulmer_sum += syns1[i].wup_similarity(syns2[u])\n",
    "                            timeframe_pairs_count += 1\n",
    "                            if syns1[i].lowest_common_hypernyms(syns2[u]) != []:\n",
    "                                #localAncestors[sentence_num].append(syns1[i].lowest_common_hypernyms(syns2[u])[0])\n",
    "                                localMin_depth+=(syns1[i].lowest_common_hypernyms(syns2[u])[0].min_depth())\n",
    "                                hasAncestors = True\n",
    "                else:\n",
    "                    continue\n",
    "            if hasAncestors:\n",
    "                validPairs += 1\n",
    "        #這邊是跑完一句話的處理\n",
    "        if timeframe_pairs_count != 0:\n",
    "            all_sentences_wu_sum_divided.append(wu_pulmer_sum/timeframe_pairs_count) #算出除以pairs數量的平均值\n",
    "        else: \n",
    "            all_sentences_wu_sum_divided.append(wu_pulmer_sum) #此時wu-palmer sum就會是0\n",
    "        all_sentences_wu_sum.append(wu_pulmer_sum)\n",
    "        pair_counts.append(timeframe_pairs_count)\n",
    "        #print(all_sentences_wu_sum)\n",
    "        global wu_difference\n",
    "        wu_difference = []\n",
    "        for x in range(len(all_sentences_wu_sum)-1):\n",
    "            wu_difference.append(all_sentences_wu_sum[x+1]-all_sentences_wu_sum[x])\n",
    "    # 計算ancestors' depth\n",
    "        if timeframe_pairs_count != 0:\n",
    "            ancestor_depth_list.append(localMin_depth/timeframe_pairs_count)\n",
    "        else:\n",
    "            ancestor_depth_list.append(localMin_depth) #此時會是0\n",
    "    '''for i in range(len(localAncestors)):\n",
    "        localMin_depth = 0\n",
    "        for u in range(len(localAncestors[i])):\n",
    "            localMin_depth += localAncestors[i][u].min_depth() #一句話所有min depth加起來\n",
    "        ancestors_depth.append((localMin_depth/len(localAncestors[i])))'''\n",
    "        #Timeframe_percentage += validPairs/(len(the_sentence)*(len(the_sentence)-1))\n",
    "        #print(Timeframe_percentage)\n",
    "    results_csv = pd.DataFrame(list(zip(SBERT,all_sentences_wu_sum,all_sentences_wu_sum_divided,pair_counts,ancestor_depth_list)), columns = ['SBERT',\"Wu-Pulmer\",\"Wu-Pulmer_divided\",\"pair_counts\",\"ancestor_depth\"])\n",
    "    results_csv.to_csv(f\"data/Text/scan_results/shuffled_scan_data/{q:0>3d}({destination}).csv\")\n",
    "    \n",
    "    #print(timeframe_pairs_count)\n",
    "    \n",
    "    \"\"\" # for normalization\n",
    "    wu_difference = np.array(wu_difference)\n",
    "    SBERT = np.array(SBERT)\n",
    "    #normalized_SBERT = preprocessing.normalize([SBERT])\n",
    "    #normalized_wu_difference = preprocessing.normalize([wu_difference])\n",
    "\n",
    "\n",
    "    min_max_scaler = preprocessing.MinMaxScaler()\n",
    "    SBERT = np.reshape(SBERT,(479,1))\n",
    "    wu_difference = np.reshape(wu_difference,(479,1))\n",
    "    global normalized_SBERT\n",
    "    global normalized_wu_difference\n",
    "    normalized_SBERT  = min_max_scaler.fit_transform(SBERT)\n",
    "    normalized_wu_difference  = min_max_scaler.fit_transform(wu_difference)\n",
    "    \"\"\"\n"
   ]
  },
  {
   "cell_type": "markdown",
   "metadata": {},
   "source": [
    "# 算common ancestor depth"
   ]
  },
  {
   "cell_type": "code",
   "execution_count": 6,
   "metadata": {},
   "outputs": [],
   "source": [
    "def common_depth_calculate(gcs,timeframe,space,start_time=0,end=480): #所以gcs要是string\n",
    "\n",
    "\n",
    "    df = pd.read_csv(gcs) \n",
    "\n",
    "    df['Start_time'] = pd.to_numeric(df['Start_time'])\n",
    "    #df['end_time'] = pd.to_numeric(df['end_time'])\n",
    "    global all_sentences001\n",
    "    all_sentences001 = []\n",
    "    t=start_time\n",
    "\n",
    "    while t<end:\n",
    "        sentences = []\n",
    "        for index, rows in df.loc[(df[\"Start_time\"]>=t) & (df[\"Start_time\"]<=(t+timeframe))].iterrows():\n",
    "            sentences.append(rows[\"Words\"])\n",
    "        all_sentences001.append(\" \".join(sentences))\n",
    "        t+=space\n",
    "\n",
    "\n",
    "    all_sentences001 = []\n",
    "    stops = set(stopwords.words('english'))\n",
    "    t=start_time\n",
    "    while t <end:\n",
    "        sentences = []\n",
    "        for index, rows in df.loc[(df[\"Start_time\"]>=t) & (df[\"Start_time\"]<=(t+timeframe))].iterrows():\n",
    "            if rows[\"Words\"].lower() not in stops:\n",
    "                sentences.append(rows[\"Words\"].lower())\n",
    "                #print(rows[\"Words\"])\n",
    "        all_sentences001.append(\" \".join(sentences))\n",
    "        #print(t)\n",
    "        t += space \n",
    "    ''' 舊的sample step\n",
    "    for t in range(0,480,0.5):\n",
    "        sentences = []\n",
    "        for index, rows in df.loc[(df[\"Start_time\"]>=t) & (df[\"Start_time\"]<=(t+10))].iterrows():\n",
    "            if rows[\"Words\"].lower() not in stops:\n",
    "                sentences.append(rows[\"Words\"].lower())\n",
    "        all_sentences001.append(\" \".join(sentences))\n",
    "    '''   \n",
    "    #nltk.download('omw-1.4')\n",
    "    #nltk.download('wordnet')\n",
    "    #nltk.download('stopwords')\n",
    "    global actual_pair_counts\n",
    "    actual_pair_counts = 0\n",
    "    stops = set(stopwords.words('english'))\n",
    "    global all_sentences_wu_sum\n",
    "    all_sentences_wu_sum = []\n",
    "    global all_sentences_wu_sum_divided\n",
    "    all_sentences_wu_sum_divided = []\n",
    "    global common_ancestors \n",
    "    common_ancestors = []\n",
    "    global word_pair_counts\n",
    "    word_pair_counts = 0\n",
    "    global common_ancestor_synset_average_depth \n",
    "    common_ancestor_synset_average_depth  = 0\n",
    "    global ancestor_depth_list\n",
    "    ancestor_depth_list = []\n",
    "    valid_word_pair_counts = 0 #計算有common ancestors的word pair\n",
    "    for sentence_num in range(0,len(all_sentences001)): #現在第幾句\n",
    "        the_sentence = str(all_sentences001[sentence_num]).split()\n",
    "        #print(the_sentence)\n",
    "        timeframe_pairs_count = 0\n",
    "        for words_num in range(0, (len(the_sentence)-1)): #標定第一個字的\n",
    "            if len(wordnet.synsets(the_sentence[words_num])) > 0 :\n",
    "                syns1 = wordnet.synsets(the_sentence[words_num])\n",
    "                syns1_num = len(syns1)\n",
    "            \n",
    "            else:\n",
    "                continue\n",
    "            for words_num2 in range((words_num+1), len(the_sentence)): #標定第二個字\n",
    "                valid_pair_indicator = False\n",
    "                word_pair_counts += 1\n",
    "                if len(wordnet.synsets(the_sentence[words_num2])) > 0 :\n",
    "                    syns2 = wordnet.synsets(the_sentence[words_num2])\n",
    "                    syns2_num = len(syns2)\n",
    "                    for i in range(0, syns1_num): #標定第一個字的synset\n",
    "                        for u in range(0, syns2_num): #標定第二個字的synset\n",
    "                            #print(the_sentence[words_num],\"的\",syns1[i],\" \", the_sentence[words_num2],\"的\",syns2[u],\" \" ,syns1[i].wup_similarity(syns2[u]))\n",
    "                            #print(syns1[i],\"+\",syns2[u])\n",
    "                            if syns1[i].lowest_common_hypernyms(syns2[u]) != []:\n",
    "                                common_ancestors.append(syns1[i].lowest_common_hypernyms(syns2[u])) \n",
    "                                ancestor_depth_list += [syns1[i].lowest_common_hypernyms(syns2[u])[0].min_depth()]\n",
    "                                actual_pair_counts += 1\n",
    "                                valid_pair_indicator = True\n",
    "                            else:\n",
    "                                ancestor_depth_list += [1] #把毫不相干的兩個字當作建立在depth = 1的ancestor上面\n",
    "                                actual_pair_counts += 1\n",
    "                                #print(syns1[i].lowest_common_hypernyms(syns2[u]))\n",
    "                            common_ancestor_synset_average_depth += ancestor_depth_list[i*syns2_num+u]/(syns1_num*syns2_num)#這邊還在修改中，先算出任一synset ancestor depth/兩個字總synset對數\n",
    "                    if valid_pair_indicator == True:\n",
    "                        valid_word_pair_counts += 1\n",
    "                else:\n",
    "                    continue\n",
    "        \n",
    "    \n",
    "        #print(all_sentences_wu_sum)\n",
    "    \n",
    "    common_ancestors_depth = 0\n",
    "    for i in range(len(common_ancestors)):\n",
    "        common_ancestors_depth += common_ancestors[i][0].min_depth() \n",
    "    #common_ancestors_depth = sum([x.min_depth() for x in common_ancestors]) #計算所有ancestor 的深度總和\n",
    "    average_ancestors_depth = common_ancestors_depth/len(common_ancestors) #計算common ancestors' depth 的平均\n",
    "    print(\"average_ancestors_depth=\",average_ancestors_depth)\n",
    "    print(\"ancestor_depth_averaged_by_word_counts(none as 1)=\",common_ancestor_synset_average_depth/word_pair_counts )\n",
    "    print(\"synset pairs with ancestors=\", len(common_ancestors),\", actual synset pairs=\", actual_pair_counts, \", percentage_of_ancestors\", len(common_ancestors)/actual_pair_counts\n",
    "            ,\", word pairs=\",word_pair_counts,\" ,valid_wp_percentage=\",valid_word_pair_counts/word_pair_counts,\"\\n\")"
   ]
  },
  {
   "cell_type": "markdown",
   "metadata": {},
   "source": [
    "# 算相對應其他區域的common ancestor "
   ]
  },
  {
   "cell_type": "code",
   "execution_count": 7,
   "metadata": {},
   "outputs": [],
   "source": [
    "def relative_depth_calculate(subject_num,destination = \"ancestor_comparison\", timeframe=10, space=1,start_time=0,end=480): #所以gcs要是string\n",
    "\n",
    "    df = pd.read_csv(\"data/Text/{0:0>3d}(done).csv\".format(subject_num)) \n",
    "\n",
    "    df['Start_time'] = pd.to_numeric(df['Start_time'])\n",
    "    #df['end_time'] = pd.to_numeric(df['end_time'])\n",
    "    #這邊是算SBERT的senteces\n",
    "\n",
    "\n",
    "    global all_sentences001\n",
    "    all_sentences001 = []\n",
    "    stops = set(stopwords.words('english'))\n",
    "    t=start_time\n",
    "    while t <end:\n",
    "        sentences = []\n",
    "        for index, rows in df.loc[(df[\"Start_time\"]>=t) & (df[\"Start_time\"]<=(t+timeframe))].iterrows():\n",
    "            if rows[\"Words\"].lower() not in stops:\n",
    "                sentences.append(rows[\"Words\"].lower())\n",
    "                #print(rows[\"Words\"])\n",
    "        all_sentences001.append(\" \".join(sentences))\n",
    "        #print(t)\n",
    "        t += space \n",
    "    # 這邊把整個timezone的字加進來\n",
    "    compared_words = []\n",
    "    for index, rows in df.loc[(df[\"Start_time\"]>=start_time) & (df[\"Start_time\"]<=end)].iterrows():\n",
    "            if rows[\"Words\"].lower() not in stops:\n",
    "                compared_words.append(rows[\"Words\"].lower())\n",
    "                #print(rows[\"Words\"])\n",
    "\n",
    "    global ancestor_depth_list\n",
    "    ancestor_depth_list = []\n",
    "    global ancestors_depth\n",
    "    ancestors_depth = []\n",
    "    global pair_counts\n",
    "    pair_counts = []\n",
    "    global valid_wordPairs\n",
    "    valid_wordPairs = []\n",
    "    stops = set(stopwords.words('english'))\n",
    "    global all_sentences_wu_sum\n",
    "    all_sentences_wu_sum = []\n",
    "    global all_sentences_wu_sum_divided\n",
    "    all_sentences_wu_sum_divided = []\n",
    "    valid_word_pair_counts = 0 #計算有common ancestors的word pair\n",
    "    for sentence_num in range(0,len(all_sentences001)): #現在第幾句\n",
    "        the_sentence = str(all_sentences001[sentence_num]).split()\n",
    "        #print(the_sentence)\n",
    "        timeframe_pairs_count = 0\n",
    "        wu_pulmer_sum = 0\n",
    "        localMin_depth = 0\n",
    "        temporary_compared_words = compared_words.copy()\n",
    "        #先把compared words裡面的字去掉目前標定的句子裡的字\n",
    "        for words in the_sentence:\n",
    "            try: #怕沒有remove到東西會卡住\n",
    "                temporary_compared_words.remove(words)\n",
    "            except:\n",
    "                continue\n",
    "        \n",
    "        for words_num in range(0, len(the_sentence)): #標定現有句子的第一個字\n",
    "            validPairs = 0\n",
    "            if len(wordnet.synsets(the_sentence[words_num])) > 0 :\n",
    "                syns1 = wordnet.synsets(the_sentence[words_num])\n",
    "                syns1_num = len(syns1)  \n",
    "            else:\n",
    "                continue\n",
    "            for words_num2 in range(len(temporary_compared_words)): #標定temporary compared words裡面的字\n",
    "                hasAncestors = False\n",
    "                if len(wordnet.synsets(temporary_compared_words[words_num2])) > 0 :\n",
    "                    syns2 = wordnet.synsets(temporary_compared_words[words_num2]) #裡面裝temporal words的synset\n",
    "                    syns2_num = len(syns2)\n",
    "                    for i in range(0, syns1_num):  # 標定第一個synset\n",
    "                        for u in range(0, syns2_num): #標定第二個synset\n",
    "                            #print(the_sentence[words_num],\"的\",syns1[i],\" \", the_sentence[words_num2],\"的\",syns2[u],\" \" ,syns1[i].wup_similarity(syns2[u]))\n",
    "                            wu_pulmer_sum += syns1[i].wup_similarity(syns2[u])\n",
    "                            timeframe_pairs_count += 1 #算synset pairs\n",
    "                            if syns1[i].lowest_common_hypernyms(syns2[u]) != []:\n",
    "                                localMin_depth+=(syns1[i].lowest_common_hypernyms(syns2[u])[0].min_depth())\n",
    "                                hasAncestors = True\n",
    "                else:\n",
    "                    continue\n",
    "            if hasAncestors:\n",
    "                validPairs += 1 #計算有沒有這對words有沒有任何一個synset pair有ancestor\n",
    "        #這邊是跑完一句話的處理\n",
    "        valid_wordPairs.append(validPairs/(len(the_sentence)*len(temporary_compared_words)))\n",
    "        if timeframe_pairs_count != 0:\n",
    "            all_sentences_wu_sum_divided.append(wu_pulmer_sum/timeframe_pairs_count) #算出除以pairs數量的平均值\n",
    "        else: \n",
    "            all_sentences_wu_sum_divided.append(wu_pulmer_sum)\n",
    "        all_sentences_wu_sum.append(wu_pulmer_sum)\n",
    "        pair_counts.append(timeframe_pairs_count)\n",
    "        \n",
    "        #計算ancestors' depth\n",
    "        ancestor_depth_list.append(localMin_depth/timeframe_pairs_count)\n",
    "    results_csv = pd.DataFrame(list(zip(all_sentences_wu_sum,all_sentences_wu_sum_divided,pair_counts,ancestor_depth_list,valid_wordPairs)), columns = [\"Wu-Pulmer\",\"Wu-Pulmer_divided\",\"pair_counts\",\"ancestor_depth\",\"valid word pairs\"])\n",
    "    \n",
    "    \n",
    "    results_csv.to_csv(\"data/Text/{0:0>3d}({1}{2}_{3}).csv\".format(subject_num,destination,start_time,end))\n",
    "    #print(timeframe_pairs_count)"
   ]
  },
  {
   "cell_type": "code",
   "execution_count": 8,
   "metadata": {},
   "outputs": [
    {
     "data": {
      "text/plain": [
       "'relative_depth_calculate(8,\"ancestor_comparison\", 10, 1,start_time=100,end=260)\\nrelative_depth_calculate(8,\"ancestor_comparison\", 10, 1,start_time=300,end=480)'"
      ]
     },
     "execution_count": 8,
     "metadata": {},
     "output_type": "execute_result"
    }
   ],
   "source": [
    "'''relative_depth_calculate(8,\"ancestor_comparison\", 10, 1,start_time=100,end=260)\n",
    "relative_depth_calculate(8,\"ancestor_comparison\", 10, 1,start_time=300,end=480)'''"
   ]
  },
  {
   "cell_type": "code",
   "execution_count": 9,
   "metadata": {},
   "outputs": [
    {
     "data": {
      "text/plain": [
       "'x=18\\nstartt=150\\nendt=270\\ncommon_depth_calculate(f\"data/Text/{x:0>3d}(done).csv\",endt-startt,4880,start_time=startt,end=endt)  #random_words\\nx=18\\nstartt= 270\\nendt=480\\ncommon_depth_calculate(f\"data/Text/{x:0>3d}(done).csv\",endt-startt,4880,start_time=startt,end=endt)\\nx=18\\nstartt= 150\\nendt=480\\ncommon_depth_calculate(f\"data/Text/{x:0>3d}(done).csv\",endt-startt,4880,start_time=startt,end=endt)'"
      ]
     },
     "execution_count": 9,
     "metadata": {},
     "output_type": "execute_result"
    }
   ],
   "source": [
    "'''x=18\n",
    "startt=150\n",
    "endt=270\n",
    "common_depth_calculate(f\"data/Text/{x:0>3d}(done).csv\",endt-startt,4880,start_time=startt,end=endt)  #random_words\n",
    "x=18\n",
    "startt= 270\n",
    "endt=480\n",
    "common_depth_calculate(f\"data/Text/{x:0>3d}(done).csv\",endt-startt,4880,start_time=startt,end=endt)\n",
    "x=18\n",
    "startt= 150\n",
    "endt=480\n",
    "common_depth_calculate(f\"data/Text/{x:0>3d}(done).csv\",endt-startt,4880,start_time=startt,end=endt)'''"
   ]
  },
  {
   "cell_type": "code",
   "execution_count": 10,
   "metadata": {},
   "outputs": [
    {
     "data": {
      "text/plain": [
       "'x=6\\nstartt=200\\nendt=420\\ncommon_depth_calculate(f\"data/Text/{x:0>3d}(done).csv\",endt-startt,4880,start_time=startt,end=endt)  #random_words\\nx=8\\nstartt= 200\\nendt=300\\ncommon_depth_calculate(f\"data/Text/{x:0>3d}(done).csv\",endt-startt,4880,start_time=startt,end=endt)\\nx=8\\nstartt= 300\\nendt=400\\ncommon_depth_calculate(f\"data/Text/{x:0>3d}(done).csv\",endt-startt,4880,start_time=startt,end=endt)'"
      ]
     },
     "execution_count": 10,
     "metadata": {},
     "output_type": "execute_result"
    }
   ],
   "source": [
    "'''x=6\n",
    "startt=200\n",
    "endt=420\n",
    "common_depth_calculate(f\"data/Text/{x:0>3d}(done).csv\",endt-startt,4880,start_time=startt,end=endt)  #random_words\n",
    "x=8\n",
    "startt= 200\n",
    "endt=300\n",
    "common_depth_calculate(f\"data/Text/{x:0>3d}(done).csv\",endt-startt,4880,start_time=startt,end=endt)\n",
    "x=8\n",
    "startt= 300\n",
    "endt=400\n",
    "common_depth_calculate(f\"data/Text/{x:0>3d}(done).csv\",endt-startt,4880,start_time=startt,end=endt)'''"
   ]
  },
  {
   "cell_type": "code",
   "execution_count": 11,
   "metadata": {},
   "outputs": [
    {
     "data": {
      "text/plain": [
       "'x=8\\nstartt=30\\nendt=130\\ncommon_depth_calculate(f\"data/Text/{x:0>3d}(done_shuffled).csv\",endt-startt,4880,start_time=startt,end=endt)\\nx=8\\nstartt=180\\nendt=300\\ncommon_depth_calculate(f\"data/Text/{x:0>3d}(done_shuffled).csv\",endt-startt,4880,start_time=startt,end=endt)\\nx=8\\nstartt=180\\nendt=480\\ncommon_depth_calculate(f\"data/Text/{x:0>3d}(done_shuffled).csv\",endt-startt,4880,start_time=startt,end=endt)\\nx=8\\nstartt=200\\nendt=400\\ncommon_depth_calculate(f\"data/Text/{x:0>3d}(done_shuffled).csv\",endt-startt,4880,start_time=startt,end=endt)'"
      ]
     },
     "execution_count": 11,
     "metadata": {},
     "output_type": "execute_result"
    }
   ],
   "source": [
    "'''x=8\n",
    "startt=30\n",
    "endt=130\n",
    "common_depth_calculate(f\"data/Text/{x:0>3d}(done_shuffled).csv\",endt-startt,4880,start_time=startt,end=endt)\n",
    "x=8\n",
    "startt=180\n",
    "endt=300\n",
    "common_depth_calculate(f\"data/Text/{x:0>3d}(done_shuffled).csv\",endt-startt,4880,start_time=startt,end=endt)\n",
    "x=8\n",
    "startt=180\n",
    "endt=480\n",
    "common_depth_calculate(f\"data/Text/{x:0>3d}(done_shuffled).csv\",endt-startt,4880,start_time=startt,end=endt)\n",
    "x=8\n",
    "startt=200\n",
    "endt=400\n",
    "common_depth_calculate(f\"data/Text/{x:0>3d}(done_shuffled).csv\",endt-startt,4880,start_time=startt,end=endt)'''"
   ]
  },
  {
   "cell_type": "markdown",
   "metadata": {},
   "source": [
    "0.9092529740477905"
   ]
  },
  {
   "cell_type": "markdown",
   "metadata": {},
   "source": [
    "參數表:<br>\n",
    "all_sentences001: 所有的句子整合(沒有刪掉stop words)<br>\n",
    "SBERT: 具有全部SBERT similarity的list<br>\n",
    "all_sentences_wu_sum: 每句話的wu-pulmer similarity算出來的平均的list<br>\n",
    "wu_difference: 兩句兩句減掉wu similarity的list<br>\n",
    "normalized_SBERT: 就是表準化過後的SBERT list<br>\n",
    "normalized_wu_difference: 標準化過後的wu_pulmer difference<br>\n",
    "這邊注意wu-pulmer的different based應該不能這樣算"
   ]
  },
  {
   "cell_type": "markdown",
   "metadata": {},
   "source": [
    "一般SD切割\n",
    "halfpeakstep_phasef\n",
    "\n",
    "timestep=1 SD切割\n",
    "wholehalff\n"
   ]
  },
  {
   "cell_type": "code",
   "execution_count": 12,
   "metadata": {},
   "outputs": [
    {
     "data": {
      "text/plain": [
       "'\\n#計算單一SUBJECT的切割\\nx=10\\nq=x\\nfreq = float(input(\"enter freq: \"))\\nperiod = 1/(freq/1000)\\nstartt = input(\"enter start time: \")\\nendt= input(\"enter end time:\")\\ncut_timeoffset = int(startt)\\ncut_timeend = int(endt)\\ncalculate(f\"data/Text/0{x}(done).csv\",f\"halfpeakstep_phasef{math.floor(freq)}_{startt}_{endt}\",period/2,1,cut_timeoffset,cut_timeend)\\n'"
      ]
     },
     "execution_count": 12,
     "metadata": {},
     "output_type": "execute_result"
    }
   ],
   "source": [
    "'''\n",
    "#計算單一SUBJECT的切割\n",
    "x=10\n",
    "q=x\n",
    "freq = float(input(\"enter freq: \"))\n",
    "period = 1/(freq/1000)\n",
    "startt = input(\"enter start time: \")\n",
    "endt= input(\"enter end time:\")\n",
    "cut_timeoffset = int(startt)\n",
    "cut_timeend = int(endt)\n",
    "calculate(f\"data/Text/0{x}(done).csv\",f\"halfpeakstep_phasef{math.floor(freq)}_{startt}_{endt}\",period/2,1,cut_timeoffset,cut_timeend)\n",
    "'''"
   ]
  },
  {
   "cell_type": "markdown",
   "metadata": {},
   "source": [
    "抓週期"
   ]
  },
  {
   "cell_type": "code",
   "execution_count": 13,
   "metadata": {},
   "outputs": [],
   "source": [
    "def read_period(gcs): #所以gcs要是string\n",
    "    df = pd.read_csv(gcs) \n",
    "    global period\n",
    "    period = df[\"period(Wu)\"][20] #現在是抓wu-pulmer divided 的週期\n",
    "    #print(period)\n",
    "    "
   ]
  },
  {
   "cell_type": "markdown",
   "metadata": {},
   "source": [
    "def calculate(gcs,destination,timeframe,space,start_time=0,end=480): #所以gcs要是string\n",
    "destination只要()裡面的名字就好"
   ]
  },
  {
   "cell_type": "code",
   "execution_count": 14,
   "metadata": {},
   "outputs": [
    {
     "data": {
      "text/plain": [
       "'#製作一般的timeframe = 10, space = 1 的results\\nx=8\\nq=x\\ncalculate(f\"data/Text/00{x}(done_random_words3).csv\",f\"results_random_words3\",10,1)'"
      ]
     },
     "execution_count": 14,
     "metadata": {},
     "output_type": "execute_result"
    }
   ],
   "source": [
    "'''#製作一般的timeframe = 10, space = 1 的results\n",
    "x=8\n",
    "q=x\n",
    "calculate(f\"data/Text/00{x}(done_random_words3).csv\",f\"results_random_words3\",10,1)'''"
   ]
  },
  {
   "cell_type": "markdown",
   "metadata": {},
   "source": [
    "## 一般切割SD"
   ]
  },
  {
   "cell_type": "code",
   "execution_count": 15,
   "metadata": {},
   "outputs": [
    {
     "data": {
      "text/plain": [
       "'#這個切半個週期SD用的\\nx=8\\nq=x\\nfreq = float(input(\"enter freq: \"))\\nperiod = 1/(freq/1000)\\nstartt = input(\"enter start time: \")\\nendt= input(\"enter end time:\")\\n#read_period(f\"data/peaks_of_PSD/0{x}(peaks).csv\")\\ncut_timeoffset = int(startt)\\ncut_timeend = int(endt)\\nphasenum=0\\nfor t in range(cut_timeoffset,cut_timeoffset+int(period/2)): #這邊驅動的是不同phase的時間差\\n    # print(\"start_time =\", t)\\n    phasenum+=1\\n    calculate(f\"data/Text/00{x}(done_random_words2).csv\",f\"done_random_words2_halfpeakstep_phasef{math.floor(freq)}_{startt}_{endt}_{t-cut_timeoffset}\",period/2,period/2,t,end = cut_timeend) #,\\nprint(\"phase有:\",phasenum)\\nprint(\"freq=\", freq)\\nprint(startt, endt)\\n'"
      ]
     },
     "execution_count": 15,
     "metadata": {},
     "output_type": "execute_result"
    }
   ],
   "source": [
    "'''#這個切半個週期SD用的\n",
    "x=8\n",
    "q=x\n",
    "freq = float(input(\"enter freq: \"))\n",
    "period = 1/(freq/1000)\n",
    "startt = input(\"enter start time: \")\n",
    "endt= input(\"enter end time:\")\n",
    "#read_period(f\"data/peaks_of_PSD/0{x}(peaks).csv\")\n",
    "cut_timeoffset = int(startt)\n",
    "cut_timeend = int(endt)\n",
    "phasenum=0\n",
    "for t in range(cut_timeoffset,cut_timeoffset+int(period/2)): #這邊驅動的是不同phase的時間差\n",
    "    # print(\"start_time =\", t)\n",
    "    phasenum+=1\n",
    "    calculate(f\"data/Text/00{x}(done_random_words2).csv\",f\"done_random_words2_halfpeakstep_phasef{math.floor(freq)}_{startt}_{endt}_{t-cut_timeoffset}\",period/2,period/2,t,end = cut_timeend) #,\n",
    "print(\"phase有:\",phasenum)\n",
    "print(\"freq=\", freq)\n",
    "print(startt, endt)\n",
    "'''"
   ]
  },
  {
   "cell_type": "markdown",
   "metadata": {},
   "source": [
    "## 地毯式頻率切割"
   ]
  },
  {
   "cell_type": "code",
   "execution_count": 16,
   "metadata": {},
   "outputs": [],
   "source": [
    "#這個好像是切half套SD用的\n",
    "#for x in range(10,50):\n",
    "x=8\n",
    "q=x\n",
    "\n",
    "for freq in range(20,31):\n",
    "    period = 1/(freq/1000)\n",
    "    #read_period(f\"data/peaks_of_PSD/0{x}(peaks).csv\")\n",
    "    for step in range(100,101,50):\n",
    "        for startt in range(0,(481-step),10):\n",
    "            cut_timeoffset = int(startt)\n",
    "            endt = startt + step\n",
    "            cut_timeend = int(endt)\n",
    "            phasenum=0\n",
    "            #print(startt, endt)\n",
    "            for t in range(cut_timeoffset,cut_timeoffset+int(period/2)): #這邊驅動的是不同phase的時間差\n",
    "                #print(\"start_time =\", t)\n",
    "                phasenum+=1\n",
    "                calculate(f\"data/Text/{x:0>3d}(done_random_words2).csv\",f\"random2_halfpeakstep_phasef{math.floor(freq)}_{startt}_{endt}_{t-cut_timeoffset}\",period/2,period/2,t,end = cut_timeend)\n",
    "            #print(\"phase有:\",phasenu\n",
    "            #print(\"freq=\", freq)\n",
    "\n"
   ]
  },
  {
   "cell_type": "code",
   "execution_count": 17,
   "metadata": {},
   "outputs": [
    {
     "data": {
      "text/plain": [
       "'x=8\\nq=x\\nfor i in range(10,50):\\n    freq = i\\n    period = 1/(freq/1000)\\n    startt = 100\\n    endt= 480\\n    #read_period(f\"data/peaks_of_PSD/0{x}(peaks).csv\")\\n    cut_timeoffset = int(startt)\\n    cut_timeend = int(endt)\\n    phasenum=0\\n    for t in range(cut_timeoffset,cut_timeoffset+int(period/2)): #這邊驅動的是不同phase的時間差\\n        print(\"start_time =\", t)\\n        phasenum+=1\\n        calculate(f\"data/Text/00{x}(done).csv\",f\"halfpeakstep_phasef{math.floor(freq)}_{startt}_{endt}_{t-cut_timeoffset}\",period/2,period/2,t,end = cut_timeend) #,\\n    print(\"phase有:\",phasenum)\\n    print(\"freq=\", freq)'"
      ]
     },
     "execution_count": 17,
     "metadata": {},
     "output_type": "execute_result"
    }
   ],
   "source": [
    "'''x=8\n",
    "q=x\n",
    "for i in range(10,50):\n",
    "    freq = i\n",
    "    period = 1/(freq/1000)\n",
    "    startt = 100\n",
    "    endt= 480\n",
    "    #read_period(f\"data/peaks_of_PSD/0{x}(peaks).csv\")\n",
    "    cut_timeoffset = int(startt)\n",
    "    cut_timeend = int(endt)\n",
    "    phasenum=0\n",
    "    for t in range(cut_timeoffset,cut_timeoffset+int(period/2)): #這邊驅動的是不同phase的時間差\n",
    "        print(\"start_time =\", t)\n",
    "        phasenum+=1\n",
    "        calculate(f\"data/Text/00{x}(done).csv\",f\"halfpeakstep_phasef{math.floor(freq)}_{startt}_{endt}_{t-cut_timeoffset}\",period/2,period/2,t,end = cut_timeend) #,\n",
    "    print(\"phase有:\",phasenum)\n",
    "    print(\"freq=\", freq)'''"
   ]
  },
  {
   "cell_type": "markdown",
   "metadata": {},
   "source": [
    "gcs,destination,timeframe,space,start_time=0,end=480"
   ]
  },
  {
   "cell_type": "markdown",
   "metadata": {},
   "source": [
    "## 這個好像是切整套SD用的"
   ]
  },
  {
   "cell_type": "code",
   "execution_count": 18,
   "metadata": {},
   "outputs": [
    {
     "data": {
      "text/plain": [
       "'x=8\\nq=x\\nfreq = int(input(\"enter freq: \"))\\nperiod = float(1/(freq/1000))\\nstartt = input(\"enter start time: \")\\nendt= input(\"enter end time:\")\\n#read_period(f\"data/peaks_of_PSD/0{x}(peaks).csv\")\\ncut_timeoffset = int(startt)\\ncut_timeend = int(endt)\\nphasenum=0\\nfor t in range(cut_timeoffset,cut_timeend-int(period/2)): #這邊驅動的是不同phase的時間差\\n    print(\"start_time =\", t)\\n    phasenum+=1\\n    calculate(f\"data/Text/00{x}(done_shuffled).csv\",f\"shuffled_halfpeakstep_phasef{math.floor(freq)}_{startt}_{endt}_{t-cut_timeoffset}\",period/2,period/2,t,end = cut_timeend) #,\\nprint(\"phase有:\",phasenum)\\nprint(\"freq=\", freq)'"
      ]
     },
     "execution_count": 18,
     "metadata": {},
     "output_type": "execute_result"
    }
   ],
   "source": [
    "#這個好像是切整套SD用的\n",
    "'''x=8\n",
    "q=x\n",
    "freq = int(input(\"enter freq: \"))\n",
    "period = float(1/(freq/1000))\n",
    "startt = input(\"enter start time: \")\n",
    "endt= input(\"enter end time:\")\n",
    "#read_period(f\"data/peaks_of_PSD/0{x}(peaks).csv\")\n",
    "cut_timeoffset = int(startt)\n",
    "cut_timeend = int(endt)\n",
    "phasenum=0\n",
    "for t in range(cut_timeoffset,cut_timeend-int(period/2)): #這邊驅動的是不同phase的時間差\n",
    "    print(\"start_time =\", t)\n",
    "    phasenum+=1\n",
    "    calculate(f\"data/Text/00{x}(done_shuffled).csv\",f\"shuffled_halfpeakstep_phasef{math.floor(freq)}_{startt}_{endt}_{t-cut_timeoffset}\",period/2,period/2,t,end = cut_timeend) #,\n",
    "print(\"phase有:\",phasenum)\n",
    "print(\"freq=\", freq)'''"
   ]
  },
  {
   "cell_type": "markdown",
   "metadata": {},
   "source": []
  },
  {
   "cell_type": "code",
   "execution_count": 19,
   "metadata": {},
   "outputs": [
    {
     "data": {
      "text/plain": [
       "'\\nstart_subject = int(input(\"start_subject = \"))\\nend_subject = int(input(\"end_subject = \"))\\nfor x in range(start_subject,end_subject+1):\\n    if x<10:\\n        try: \\n            q=x\\n            read_period(f\"data/peaks_of_PSD/00{x}(peaks).csv\")\\n            for t in range(0,int(period/2)):\\n                print(\"start_time =\", t)\\n                calculate(f\"data/Text/00{x}(done).csv\",f\"halfpeakstep_phase0f{t}\",period/2,period/2,t)\\n        except:\\n            print(\"error:\",x)\\n            continue\\n        \\n    else:\\n        q=x\\n        try:\\n            read_period(f\"data/peaks_of_PSD/0{x}(peaks).csv\")\\n            for t in range(0,int(period/2)):\\n                print(\"start_time =\", t)\\n                calculate(f\"data/Text/0{x}(done).csv\",f\"halfpeakstep_phase0f{t}\",period/2,period/2,t)\\n        except:\\n            print(\"error:\",x)\\n            continue\\n'"
      ]
     },
     "execution_count": 19,
     "metadata": {},
     "output_type": "execute_result"
    }
   ],
   "source": [
    "'''\n",
    "start_subject = int(input(\"start_subject = \"))\n",
    "end_subject = int(input(\"end_subject = \"))\n",
    "for x in range(start_subject,end_subject+1):\n",
    "    if x<10:\n",
    "        try: \n",
    "            q=x\n",
    "            read_period(f\"data/peaks_of_PSD/00{x}(peaks).csv\")\n",
    "            for t in range(0,int(period/2)):\n",
    "                print(\"start_time =\", t)\n",
    "                calculate(f\"data/Text/00{x}(done).csv\",f\"halfpeakstep_phase0f{t}\",period/2,period/2,t)\n",
    "        except:\n",
    "            print(\"error:\",x)\n",
    "            continue\n",
    "        \n",
    "    else:\n",
    "        q=x\n",
    "        try:\n",
    "            read_period(f\"data/peaks_of_PSD/0{x}(peaks).csv\")\n",
    "            for t in range(0,int(period/2)):\n",
    "                print(\"start_time =\", t)\n",
    "                calculate(f\"data/Text/0{x}(done).csv\",f\"halfpeakstep_phase0f{t}\",period/2,period/2,t)\n",
    "        except:\n",
    "            print(\"error:\",x)\n",
    "            continue\n",
    "'''"
   ]
  },
  {
   "cell_type": "code",
   "execution_count": 20,
   "metadata": {},
   "outputs": [
    {
     "ename": "ValueError",
     "evalue": "invalid literal for int() with base 10: ''",
     "output_type": "error",
     "traceback": [
      "\u001b[1;31m---------------------------------------------------------------------------\u001b[0m",
      "\u001b[1;31mValueError\u001b[0m                                Traceback (most recent call last)",
      "Cell \u001b[1;32mIn [20], line 1\u001b[0m\n\u001b[1;32m----> 1\u001b[0m start_subject \u001b[39m=\u001b[39m \u001b[39mint\u001b[39;49m(\u001b[39minput\u001b[39;49m(\u001b[39m\"\u001b[39;49m\u001b[39mstart_subject = \u001b[39;49m\u001b[39m\"\u001b[39;49m))\n\u001b[0;32m      2\u001b[0m end_subject \u001b[39m=\u001b[39m \u001b[39mint\u001b[39m(\u001b[39minput\u001b[39m(\u001b[39m\"\u001b[39m\u001b[39mend_subject = \u001b[39m\u001b[39m\"\u001b[39m))\n\u001b[0;32m      3\u001b[0m \u001b[39mfor\u001b[39;00m x \u001b[39min\u001b[39;00m \u001b[39mrange\u001b[39m(start_subject,end_subject\u001b[39m+\u001b[39m\u001b[39m1\u001b[39m):\n",
      "\u001b[1;31mValueError\u001b[0m: invalid literal for int() with base 10: ''"
     ]
    }
   ],
   "source": [
    "\n",
    "start_subject = int(input(\"start_subject = \"))\n",
    "end_subject = int(input(\"end_subject = \"))\n",
    "for x in range(start_subject,end_subject+1):\n",
    "    if x<10:\n",
    "        try: \n",
    "            q=x\n",
    "            #read_period(f\"data/peaks_of_PSD/00{x}(peaks).csv\")\n",
    "            calculate(f\"data/Text/00{x}(done).csv\",\"step0303\",3,3)\n",
    "        except:\n",
    "            print(\"error:\",x)\n",
    "            continue\n",
    "        \n",
    "    else:\n",
    "        q=x\n",
    "        try:\n",
    "           #read_period(f\"data/peaks_of_PSD/0{x}(peaks).csv\")\n",
    "            calculate(f\"data/Text/0{x}(done).csv\",\"step0303\",3,3)\n",
    "        except:\n",
    "            print(\"error:\",x)\n",
    "            continue\n"
   ]
  },
  {
   "cell_type": "code",
   "execution_count": null,
   "metadata": {},
   "outputs": [
    {
     "name": "stdout",
     "output_type": "stream",
     "text": [
      "160\n",
      "159\n"
     ]
    }
   ],
   "source": [
    "print(len(all_sentences001))\n",
    "print(len(SBERT))"
   ]
  },
  {
   "cell_type": "code",
   "execution_count": null,
   "metadata": {},
   "outputs": [
    {
     "data": {
      "text/plain": [
       "'\\nfor i in range(18,24):\\n    if i<10:\\n        try:\\n            calculate(f\"data/Text/00{i}(done).csv\")\\n            results_csv = pd.DataFrame(list(zip(SBERT,all_sentences_wu_sum,all_sentences_wu_sum_divided,pair_counts)), columns = [\\'SBERT\\',\"Wu-Pulmer\",\"Wu-Pulmer_divided\",\"pair_counts\"])\\n            results_csv.to_csv(f\\'data/Text/00{i}(results).csv\\')\\n        except:\\n            print(\"error:\", i)\\n            continue\\n    else:\\n        try:\\n            calculate(f\"data/Text/0{i}(done).csv\")\\n            results_csv = pd.DataFrame(list(zip(SBERT,all_sentences_wu_sum,all_sentences_wu_sum_divided,pair_counts)), columns = [\\'SBERT\\',\"Wu-Pulmer\",\"Wu-Pulmer_divided\",\"pair_counts\"])\\n            results_csv.to_csv(f\\'data/Text/0{i}(results).csv\\')\\n        except:\\n            print(\"error:\", i)\\n            continue\\n'"
      ]
     },
     "execution_count": 28,
     "metadata": {},
     "output_type": "execute_result"
    }
   ],
   "source": [
    "'''\n",
    "for i in range(18,24):\n",
    "    if i<10:\n",
    "        try:\n",
    "            calculate(f\"data/Text/00{i}(done).csv\")\n",
    "            results_csv = pd.DataFrame(list(zip(SBERT,all_sentences_wu_sum,all_sentences_wu_sum_divided,pair_counts)), columns = ['SBERT',\"Wu-Pulmer\",\"Wu-Pulmer_divided\",\"pair_counts\"])\n",
    "            results_csv.to_csv(f'data/Text/00{i}(results).csv')\n",
    "        except:\n",
    "            print(\"error:\", i)\n",
    "            continue\n",
    "    else:\n",
    "        try:\n",
    "            calculate(f\"data/Text/0{i}(done).csv\")\n",
    "            results_csv = pd.DataFrame(list(zip(SBERT,all_sentences_wu_sum,all_sentences_wu_sum_divided,pair_counts)), columns = ['SBERT',\"Wu-Pulmer\",\"Wu-Pulmer_divided\",\"pair_counts\"])\n",
    "            results_csv.to_csv(f'data/Text/0{i}(results).csv')\n",
    "        except:\n",
    "            print(\"error:\", i)\n",
    "            continue\n",
    "'''"
   ]
  }
 ],
 "metadata": {
  "interpreter": {
   "hash": "c54165d08fd550b20e5d70a45269718a12194b1a3ed2e8c4cf823acd6cf23912"
  },
  "kernelspec": {
   "display_name": "Python 3.8.13 ('semantic')",
   "language": "python",
   "name": "python3"
  },
  "language_info": {
   "codemirror_mode": {
    "name": "ipython",
    "version": 3
   },
   "file_extension": ".py",
   "mimetype": "text/x-python",
   "name": "python",
   "nbconvert_exporter": "python",
   "pygments_lexer": "ipython3",
   "version": "3.8.13"
  },
  "orig_nbformat": 4,
  "vscode": {
   "interpreter": {
    "hash": "97aa44590fedb5598f039a6e0531b8b2c1bd721b4f28d7d2659aa58c3efe1ec9"
   }
  }
 },
 "nbformat": 4,
 "nbformat_minor": 2
}
