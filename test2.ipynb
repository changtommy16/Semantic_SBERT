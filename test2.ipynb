{
 "cells": [
  {
   "cell_type": "code",
   "execution_count": 22,
   "metadata": {},
   "outputs": [],
   "source": [
    "import pandas as pd\n",
    "from sklearn.metrics.pairwise import cosine_similarity\n",
    "from sentence_transformers import SentenceTransformer, util\n",
    "from torch import embedding\n",
    "from nltk.corpus import stopwords\n",
    "from nltk.corpus import wordnet \n",
    "from nltk.corpus import stopwords\n",
    "import nltk\n",
    "import numpy as np\n",
    "import math"
   ]
  },
  {
   "cell_type": "code",
   "execution_count": 23,
   "metadata": {},
   "outputs": [
    {
     "ename": "TypeError",
     "evalue": "'int' object is not callable",
     "output_type": "error",
     "traceback": [
      "\u001b[1;31m---------------------------------------------------------------------------\u001b[0m",
      "\u001b[1;31mTypeError\u001b[0m                                 Traceback (most recent call last)",
      "\u001b[1;32mc:\\Python Projects\\Semantic_SBERT\\test2.ipynb Cell 2\u001b[0m in \u001b[0;36m<cell line: 2>\u001b[1;34m()\u001b[0m\n\u001b[0;32m      <a href='vscode-notebook-cell:/c%3A/Python%20Projects/Semantic_SBERT/test2.ipynb#W2sZmlsZQ%3D%3D?line=0'>1</a>\u001b[0m num \u001b[39m=\u001b[39m []\n\u001b[1;32m----> <a href='vscode-notebook-cell:/c%3A/Python%20Projects/Semantic_SBERT/test2.ipynb#W2sZmlsZQ%3D%3D?line=1'>2</a>\u001b[0m \u001b[39mfor\u001b[39;00m x \u001b[39min\u001b[39;00m \u001b[39mrange\u001b[39;49m(\u001b[39m0\u001b[39;49m,\u001b[39m720\u001b[39;49m):\n\u001b[0;32m      <a href='vscode-notebook-cell:/c%3A/Python%20Projects/Semantic_SBERT/test2.ipynb#W2sZmlsZQ%3D%3D?line=2'>3</a>\u001b[0m      num\u001b[39m.\u001b[39mappend(x)\n\u001b[0;32m      <a href='vscode-notebook-cell:/c%3A/Python%20Projects/Semantic_SBERT/test2.ipynb#W2sZmlsZQ%3D%3D?line=3'>4</a>\u001b[0m \u001b[39mprint\u001b[39m(\u001b[39mlen\u001b[39m(num))\n",
      "\u001b[1;31mTypeError\u001b[0m: 'int' object is not callable"
     ]
    }
   ],
   "source": [
    "num = []\n",
    "for x in range(0,720):\n",
    "     num.append(x)\n",
    "print(len(num))\n",
    "angle_value = [np.sin(2*math.pi*x/36) for x in num]\n",
    "print(angle_value[0:36])\n",
    "#週期是36\n",
    "period = 36\n",
    "timestep = 18\n",
    "range = 18\n",
    "value = []\n",
    "print(len(num)/period)\n",
    "for u in range(0, int(len(num)/period),timestep):\n",
    "     value = np.append(value,angle_value[u:u+range])"
   ]
  },
  {
   "cell_type": "markdown",
   "metadata": {},
   "source": [
    "what are you doing today I'm goining to the park on the other side of the river and i'm going to get icecream"
   ]
  }
 ],
 "metadata": {
  "kernelspec": {
   "display_name": "Python 3.9.12 ('Semantic_SBERT2')",
   "language": "python",
   "name": "python3"
  },
  "language_info": {
   "codemirror_mode": {
    "name": "ipython",
    "version": 3
   },
   "file_extension": ".py",
   "mimetype": "text/x-python",
   "name": "python",
   "nbconvert_exporter": "python",
   "pygments_lexer": "ipython3",
   "version": "3.9.12"
  },
  "orig_nbformat": 4,
  "vscode": {
   "interpreter": {
    "hash": "97aa44590fedb5598f039a6e0531b8b2c1bd721b4f28d7d2659aa58c3efe1ec9"
   }
  }
 },
 "nbformat": 4,
 "nbformat_minor": 2
}
